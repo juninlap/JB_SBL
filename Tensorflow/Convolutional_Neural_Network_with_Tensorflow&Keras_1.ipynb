{
  "nbformat": 4,
  "nbformat_minor": 0,
  "metadata": {
    "colab": {
      "provenance": []
    },
    "kernelspec": {
      "name": "python3",
      "display_name": "Python 3"
    },
    "language_info": {
      "name": "python"
    }
  },
  "cells": [
    {
      "cell_type": "markdown",
      "source": [
        "##CNN_model\n",
        "\n",
        "used data : MNIST(28*28 Matrix = 784 pixel)"
      ],
      "metadata": {
        "id": "g3RoTyV5ue1Z"
      }
    },
    {
      "cell_type": "code",
      "execution_count": 1,
      "metadata": {
        "id": "GQaRO2net7Go"
      },
      "outputs": [],
      "source": [
        "#import Library\n",
        "import numpy as np\n",
        "import matplotlib.pyplot as plt\n",
        "import tensorflow as tf\n",
        "from tensorflow.keras.datasets import mnist\n",
        "from tensorflow.keras.models import Sequential\n",
        "from tensorflow.keras.layers import Flatten, Dense, Conv2D, MaxPooling2D\n",
        "from tensorflow.keras.losses import SparseCategoricalCrossentropy\n",
        "from tensorflow.keras.optimizers import Adam"
      ]
    },
    {
      "cell_type": "code",
      "source": [
        "#load data & nomalize data\n",
        "def load_mnist_dataset():\n",
        "  (train_validation_images, train_validation_labels), (test_images, test_labels) \\\n",
        "    = mnist.load_data()\n",
        "\n",
        "  train_validation_images = train_validation_images.reshape(-1,28,28,1)\n",
        "  test_images = test_images.reshape(-1,28,28,1)\n",
        "\n",
        "  train_validation_images = train_validation_images / 255.\n",
        "  test_images = test_images / 255.\n",
        "\n",
        "  n_train_validation = train_validation_images.shape[0]\n",
        "  train_ratio = 0.8\n",
        "  n_train = int(n_train_validation * train_ratio)\n",
        "\n",
        "  train_x = train_validation_images[:n_train]\n",
        "  train_y = train_validation_labels[:n_train]\n",
        "  validation_x = train_validation_images[n_train:]\n",
        "  validation_y = train_validation_labels[n_train:]\n",
        "  test_x = test_images\n",
        "  test_y = test_labels\n",
        "\n",
        "#train set\n",
        "  print('Image :', train_x.shape)\n",
        "  print('Label :', train_y.shape)\n",
        "#validtion set\n",
        "  print('Image :', validation_x.shape)\n",
        "  print('Label :', validation_y.shape)\n",
        "#train&validation set\n",
        "  print('Image :', test_x.shape)\n",
        "  print('Label :', test_y.shape)\n",
        "\n",
        "  return train_x, train_y, validation_x, validation_y, test_x, test_y"
      ],
      "metadata": {
        "id": "SYPJ4XaJuN44"
      },
      "execution_count": 2,
      "outputs": []
    },
    {
      "cell_type": "code",
      "source": [
        "train_x, train_y, validation_x, validation_y, test_x, test_y = load_mnist_dataset()"
      ],
      "metadata": {
        "colab": {
          "base_uri": "https://localhost:8080/"
        },
        "id": "XH7oAKZJuN_P",
        "outputId": "835ffade-d74d-4fdf-f061-67b01e7aa353"
      },
      "execution_count": 3,
      "outputs": [
        {
          "output_type": "stream",
          "name": "stdout",
          "text": [
            "Downloading data from https://storage.googleapis.com/tensorflow/tf-keras-datasets/mnist.npz\n",
            "11490434/11490434 [==============================] - 1s 0us/step\n",
            "Image : (48000, 28, 28, 1)\n",
            "Label : (48000,)\n",
            "Image : (12000, 28, 28, 1)\n",
            "Label : (12000,)\n",
            "Image : (10000, 28, 28, 1)\n",
            "Label : (10000,)\n"
          ]
        }
      ]
    },
    {
      "cell_type": "code",
      "source": [
        "#build CNN model\n",
        "model = Sequential()\n",
        "model.add(Conv2D(filters=24, kernel_size=(3,3), padding='valid', activation='relu'))\n",
        "model.add(MaxPooling2D(pool_size=(2,2), strides=(2,2)))\n",
        "model.add(Conv2D(filters=36, kernel_size=(3,3), padding='valid', activation='relu'))\n",
        "model.add(MaxPooling2D(pool_size=(2,2), strides=(2,2)))\n",
        "model.add(Flatten())\n",
        "model.add(Dense(128, activation='relu'))\n",
        "model.add(Dense(10, activation='softmax'))\n",
        "\n",
        "model.compile(loss='sparse_categorical_crossentropy', optimizer='Adam', metrics=['accuracy'])"
      ],
      "metadata": {
        "id": "Ee3uLnFguOBo"
      },
      "execution_count": 4,
      "outputs": []
    },
    {
      "cell_type": "code",
      "source": [
        "#train model\n",
        "history = model.fit(train_x, train_y, batch_size=9, epochs=10,\\\n",
        "                    verbose=2, validation_data=(validation_x, validation_y))"
      ],
      "metadata": {
        "colab": {
          "base_uri": "https://localhost:8080/"
        },
        "id": "JoFN2FYbuOD3",
        "outputId": "c5e7767c-94f0-4eb1-90f8-33ece6067722"
      },
      "execution_count": 5,
      "outputs": [
        {
          "output_type": "stream",
          "name": "stdout",
          "text": [
            "Epoch 1/10\n",
            "5334/5334 - 57s - loss: 0.1280 - accuracy: 0.9601 - val_loss: 0.0608 - val_accuracy: 0.9823 - 57s/epoch - 11ms/step\n",
            "Epoch 2/10\n",
            "5334/5334 - 54s - loss: 0.0448 - accuracy: 0.9861 - val_loss: 0.0627 - val_accuracy: 0.9810 - 54s/epoch - 10ms/step\n",
            "Epoch 3/10\n",
            "5334/5334 - 53s - loss: 0.0312 - accuracy: 0.9904 - val_loss: 0.0416 - val_accuracy: 0.9875 - 53s/epoch - 10ms/step\n",
            "Epoch 4/10\n",
            "5334/5334 - 57s - loss: 0.0215 - accuracy: 0.9930 - val_loss: 0.0446 - val_accuracy: 0.9878 - 57s/epoch - 11ms/step\n",
            "Epoch 5/10\n",
            "5334/5334 - 54s - loss: 0.0168 - accuracy: 0.9946 - val_loss: 0.0380 - val_accuracy: 0.9902 - 54s/epoch - 10ms/step\n",
            "Epoch 6/10\n",
            "5334/5334 - 54s - loss: 0.0137 - accuracy: 0.9958 - val_loss: 0.0488 - val_accuracy: 0.9880 - 54s/epoch - 10ms/step\n",
            "Epoch 7/10\n",
            "5334/5334 - 58s - loss: 0.0110 - accuracy: 0.9965 - val_loss: 0.0455 - val_accuracy: 0.9900 - 58s/epoch - 11ms/step\n",
            "Epoch 8/10\n",
            "5334/5334 - 53s - loss: 0.0088 - accuracy: 0.9968 - val_loss: 0.0522 - val_accuracy: 0.9885 - 53s/epoch - 10ms/step\n",
            "Epoch 9/10\n",
            "5334/5334 - 55s - loss: 0.0090 - accuracy: 0.9970 - val_loss: 0.0510 - val_accuracy: 0.9897 - 55s/epoch - 10ms/step\n",
            "Epoch 10/10\n",
            "5334/5334 - 59s - loss: 0.0088 - accuracy: 0.9971 - val_loss: 0.0505 - val_accuracy: 0.9901 - 59s/epoch - 11ms/step\n"
          ]
        }
      ]
    },
    {
      "cell_type": "code",
      "source": [
        "model.summary()"
      ],
      "metadata": {
        "colab": {
          "base_uri": "https://localhost:8080/"
        },
        "id": "HPDD4amCuOGH",
        "outputId": "fbe6a460-9aea-4fcd-8012-a14088133eb6"
      },
      "execution_count": 6,
      "outputs": [
        {
          "output_type": "stream",
          "name": "stdout",
          "text": [
            "Model: \"sequential\"\n",
            "_________________________________________________________________\n",
            " Layer (type)                Output Shape              Param #   \n",
            "=================================================================\n",
            " conv2d (Conv2D)             (None, 26, 26, 24)        240       \n",
            "                                                                 \n",
            " max_pooling2d (MaxPooling2D  (None, 13, 13, 24)       0         \n",
            " )                                                               \n",
            "                                                                 \n",
            " conv2d_1 (Conv2D)           (None, 11, 11, 36)        7812      \n",
            "                                                                 \n",
            " max_pooling2d_1 (MaxPooling  (None, 5, 5, 36)         0         \n",
            " 2D)                                                             \n",
            "                                                                 \n",
            " flatten (Flatten)           (None, 900)               0         \n",
            "                                                                 \n",
            " dense (Dense)               (None, 128)               115328    \n",
            "                                                                 \n",
            " dense_1 (Dense)             (None, 10)                1290      \n",
            "                                                                 \n",
            "=================================================================\n",
            "Total params: 124,670\n",
            "Trainable params: 124,670\n",
            "Non-trainable params: 0\n",
            "_________________________________________________________________\n"
          ]
        }
      ]
    },
    {
      "cell_type": "code",
      "source": [
        "#Plot training loss and accuracy\n",
        "fig, axes = plt.subplots(2,1)\n",
        "\n",
        "axes[0].plot(history.history['loss'], label='Train loss')\n",
        "axes[0].plot(history.history['val_loss'], label='Validation loss')\n",
        "axes[0].set_ylabel('Crossentropy')\n",
        "axes[0].legend()\n",
        "\n",
        "axes[1].plot(history.history['accuracy'], label='Train accuracy')\n",
        "axes[1].plot(history.history['val_accuracy'], label='Validation accuracy')\n",
        "axes[1].set_ylabel('Accuarcy')\n",
        "axes[1].legend()\n",
        "axes[1].set_xlabel('Epochs')\n",
        "\n",
        "fig.show()"
      ],
      "metadata": {
        "colab": {
          "base_uri": "https://localhost:8080/",
          "height": 449
        },
        "id": "RLYCbtQauV_P",
        "outputId": "b227f620-b7b8-49f6-9eee-06da16e7e6bf"
      },
      "execution_count": 7,
      "outputs": [
        {
          "output_type": "display_data",
          "data": {
            "text/plain": [
              "<Figure size 640x480 with 2 Axes>"
            ],
            "image/png": "[encoded data removed]"
          },
          "metadata": {}
        }
      ]
    },
    {
      "cell_type": "code",
      "source": [
        "#test model\n",
        "result= model.evaluate(test_x, test_y, verbose=2)\n",
        "\n",
        "print('Test loss : {:.4f}\\t Test accuracy : {:.2f}%'.format(result[0], result[1]*100))"
      ],
      "metadata": {
        "colab": {
          "base_uri": "https://localhost:8080/"
        },
        "id": "vxyqwJEeuWBp",
        "outputId": "3ff9fce2-365e-4d15-f515-03f93fab7099"
      },
      "execution_count": 8,
      "outputs": [
        {
          "output_type": "stream",
          "name": "stdout",
          "text": [
            "313/313 - 2s - loss: 0.0359 - accuracy: 0.9912 - 2s/epoch - 7ms/step\n",
            "Test loss : 0.0359\t Test accuracy : 99.12%\n"
          ]
        }
      ]
    },
    {
      "cell_type": "code",
      "source": [
        "prediction = model.predict(test_x)\n",
        "plt.imshow(test_x[0], 'gray')\n",
        "print('Probabilty is {}'.format(prediction[0].round()))\n",
        "plt.title('Prediction is {}'.format(np.argmax(prediction[0])))\n",
        "plt.show()"
      ],
      "metadata": {
        "colab": {
          "base_uri": "https://localhost:8080/",
          "height": 489
        },
        "id": "hrE_wbAUuWDv",
        "outputId": "55650811-44d8-478e-d776-4c586549b129"
      },
      "execution_count": 9,
      "outputs": [
        {
          "output_type": "stream",
          "name": "stdout",
          "text": [
            "313/313 [==============================] - 3s 8ms/step\n",
            "Probabilty is [0. 0. 0. 0. 0. 0. 0. 1. 0. 0.]\n"
          ]
        },
        {
          "output_type": "display_data",
          "data": {
            "text/plain": [
              "<Figure size 640x480 with 1 Axes>"
            ],
            "image/png": "[encoded data removed]"
          },
          "metadata": {}
        }
      ]
    },
    {
      "cell_type": "code",
      "source": [
        "layers=model.layers\n",
        "print(layers)"
      ],
      "metadata": {
        "colab": {
          "base_uri": "https://localhost:8080/"
        },
        "id": "H53MZvjHuWFy",
        "outputId": "b7b7580c-5ce1-4321-fe82-4af954115c32"
      },
      "execution_count": 10,
      "outputs": [
        {
          "output_type": "stream",
          "name": "stdout",
          "text": [
            "[<keras.layers.convolutional.conv2d.Conv2D object at 0x7f0a20af0940>, <keras.layers.pooling.max_pooling2d.MaxPooling2D object at 0x7f0a20af0a30>, <keras.layers.convolutional.conv2d.Conv2D object at 0x7f0a20af2b00>, <keras.layers.pooling.max_pooling2d.MaxPooling2D object at 0x7f0a20af2ad0>, <keras.layers.reshaping.flatten.Flatten object at 0x7f0a20acb850>, <keras.layers.core.dense.Dense object at 0x7f0a20acb880>, <keras.layers.core.dense.Dense object at 0x7f0a3bffcb20>]\n"
          ]
        }
      ]
    },
    {
      "cell_type": "code",
      "source": [
        "layers[0].get_weights()[0]"
      ],
      "metadata": {
        "colab": {
          "base_uri": "https://localhost:8080/"
        },
        "id": "WlviWMFguWHw",
        "outputId": "c491489c-eec8-4f9c-d5be-afcd954e089b"
      },
      "execution_count": 11,
      "outputs": [
        {
          "output_type": "execute_result",
          "data": {
            "text/plain": [
              "array([[[[-0.10195272, -0.13749373, -0.07830122,  0.17931005,\n",
              "          -0.34034106, -0.08708304,  0.05938542,  0.35621533,\n",
              "           0.16076513, -0.13570325,  0.23631975, -0.04843702,\n",
              "          -0.05725677,  0.31066856, -0.30026913,  0.05496983,\n",
              "           0.14070265, -0.50850433, -0.10132553, -0.22138786,\n",
              "           0.05407699, -0.48936528,  0.06250314,  0.04336888]],\n",
              "\n",
              "        [[-0.38367847,  0.09716819, -0.35801303,  0.36139834,\n",
              "          -0.03249982,  0.07596412,  0.02388361,  0.23899662,\n",
              "           0.21086119, -0.36031252,  0.27674872,  0.09304792,\n",
              "           0.0353392 ,  0.03098887, -0.00831764,  0.03317557,\n",
              "          -0.28584403, -0.26382592,  0.11208906,  0.1405779 ,\n",
              "          -0.02019029, -0.19554721,  0.02911505, -0.14876068]],\n",
              "\n",
              "        [[-0.45938376, -0.04796861,  0.02962267, -0.01030407,\n",
              "           0.13852426, -0.08266634,  0.3094019 ,  0.12733732,\n",
              "          -0.21219896, -0.23152007,  0.3798702 , -0.17342573,\n",
              "          -0.03363496, -0.3191886 ,  0.10064904,  0.05083175,\n",
              "          -0.53746545, -0.15293933,  0.08874937,  0.2709158 ,\n",
              "          -0.13693875, -0.05138928,  0.18192573, -0.07541021]]],\n",
              "\n",
              "\n",
              "       [[[ 0.00390074,  0.05658083,  0.1042361 ,  0.27944413,\n",
              "           0.18287113,  0.00314307, -0.25611544,  0.03080467,\n",
              "          -0.15501824,  0.13562532, -0.03106916,  0.12584674,\n",
              "           0.05414597,  0.2700935 , -0.16218442, -0.01162964,\n",
              "           0.3319634 , -0.42759106,  0.07781849, -0.5811502 ,\n",
              "           0.06883027,  0.26783034, -0.08615109,  0.04277325]],\n",
              "\n",
              "        [[ 0.03687751, -0.15977998,  0.08214495,  0.00147409,\n",
              "           0.2754654 , -0.0037823 , -0.23865692, -0.02761859,\n",
              "           0.07400863,  0.33132243,  0.09303441,  0.2673865 ,\n",
              "          -0.03598077, -0.02010991, -0.29939312, -0.12702838,\n",
              "           0.3478788 ,  0.07892472,  0.12128647,  0.02265492,\n",
              "          -0.00176934,  0.36596638,  0.08706757, -0.04102643]],\n",
              "\n",
              "        [[-0.16692135, -0.20953007,  0.11363491, -0.56772363,\n",
              "           0.12914145, -0.1924661 ,  0.02394031, -0.22396219,\n",
              "           0.08376851,  0.14892834,  0.22492622, -0.29300836,\n",
              "           0.1777563 , -0.2110446 ,  0.2448154 , -0.00585799,\n",
              "          -0.40235022,  0.17978059, -0.17367736,  0.3126555 ,\n",
              "           0.00560771,  0.08009185,  0.27341193,  0.09398148]]],\n",
              "\n",
              "\n",
              "       [[[ 0.27289003, -0.00698752, -0.01287535, -0.00822162,\n",
              "           0.08112014,  0.02934465, -0.04027551, -0.3788879 ,\n",
              "          -0.18939061,  0.00503383, -0.36323416, -0.39704216,\n",
              "          -0.15685913,  0.27406335, -0.01430672,  0.01001252,\n",
              "           0.03729128,  0.10345018,  0.1383124 , -0.35798305,\n",
              "          -0.09744413,  0.03519161, -0.422868  ,  0.01654493]],\n",
              "\n",
              "        [[ 0.4065919 ,  0.06736378,  0.13945162, -0.4907212 ,\n",
              "          -0.07095088,  0.0862487 , -0.53947306, -0.60487825,\n",
              "           0.0661713 , -0.23799774, -0.6292559 ,  0.23737738,\n",
              "          -0.18507475, -0.27258393, -0.5221024 ,  0.05072248,\n",
              "           0.36491352,  0.23611113, -0.04749874,  0.06553075,\n",
              "          -0.018058  , -0.23020972, -0.31066814, -0.06489218]],\n",
              "\n",
              "        [[ 0.3075605 ,  0.08476318, -0.03490171,  0.14894982,\n",
              "          -0.3829798 , -0.18991649, -0.26365   , -0.36771542,\n",
              "          -0.02081812, -0.10566473, -0.36084074,  0.11090209,\n",
              "          -0.100927  , -0.43487123,  0.08945502, -0.12488042,\n",
              "           0.04891999,  0.35970128, -0.33039173,  0.08077758,\n",
              "           0.09554496, -0.39936903, -0.10218939, -0.1383356 ]]]],\n",
              "      dtype=float32)"
            ]
          },
          "metadata": {},
          "execution_count": 11
        }
      ]
    },
    {
      "cell_type": "code",
      "source": [
        "#weight and bias\n",
        "print('Con2D-1 : {} {}'.format(layers[0].get_weights()[0].shape,\\\n",
        "                               layers[0].get_weights()[1].shape))\n",
        "print('trainable parameters : {}'.format(np.prod(layers[0].get_weights()[0].shape)\\\n",
        "                                         +np.sum(layers[0].get_weights()[1].shape)))\n",
        "print('Con2D-2 : {} {}'.format(layers[2].get_weights()[0].shape,\\\n",
        "                               layers[2].get_weights()[1].shape))\n",
        "print('trainable parameters : {}'.format(np.prod(layers[2].get_weights()[0].shape)\\\n",
        "                                         +np.sum(layers[2].get_weights()[1].shape)))\n",
        "print('Dense-1 : {} {}'.format(layers[5].get_weights()[0].shape,\\\n",
        "                               layers[5].get_weights()[1].shape))\n",
        "print('trainable parameters : {}'.format(np.prod(layers[5].get_weights()[0].shape)\\\n",
        "                                         +np.sum(layers[5].get_weights()[1].shape)))\n",
        "print('Dense-2 : {} {}'.format(layers[6].get_weights()[0].shape,\\\n",
        "                               model.layers[6].get_weights()[1].shape))\n",
        "print('trainable parameters : {}'.format(np.prod(layers[6].get_weights()[0].shape)\\\n",
        "                                         +np.sum(layers[6].get_weights()[1].shape)))"
      ],
      "metadata": {
        "colab": {
          "base_uri": "https://localhost:8080/"
        },
        "id": "sZA8zj-1ub4Y",
        "outputId": "278e6f89-ef67-4f02-ea07-870fc343b485"
      },
      "execution_count": 12,
      "outputs": [
        {
          "output_type": "stream",
          "name": "stdout",
          "text": [
            "Con2D-1 : (3, 3, 1, 24) (24,)\n",
            "trainable parameters : 240\n",
            "Con2D-2 : (3, 3, 24, 36) (36,)\n",
            "trainable parameters : 7812\n",
            "Dense-1 : (900, 128) (128,)\n",
            "trainable parameters : 115328\n",
            "Dense-2 : (128, 10) (10,)\n",
            "trainable parameters : 1290\n"
          ]
        }
      ]
    },
    {
      "cell_type": "code",
      "source": [
        "x = tf.random.uniform(shape=(1,28,28,1))\n",
        "for layer in model.layers:\n",
        "    x=layer(x)\n",
        "    print(layer.__class__.__name__, 'output shape:\\t',x.shape)"
      ],
      "metadata": {
        "colab": {
          "base_uri": "https://localhost:8080/"
        },
        "id": "Xglxr9qQub6h",
        "outputId": "0522ff16-e66d-443b-befc-7a7616c62751"
      },
      "execution_count": 13,
      "outputs": [
        {
          "output_type": "stream",
          "name": "stdout",
          "text": [
            "Conv2D output shape:\t (1, 26, 26, 24)\n",
            "MaxPooling2D output shape:\t (1, 13, 13, 24)\n",
            "Conv2D output shape:\t (1, 11, 11, 36)\n",
            "MaxPooling2D output shape:\t (1, 5, 5, 36)\n",
            "Flatten output shape:\t (1, 900)\n",
            "Dense output shape:\t (1, 128)\n",
            "Dense output shape:\t (1, 10)\n"
          ]
        }
      ]
    }
  ]
}