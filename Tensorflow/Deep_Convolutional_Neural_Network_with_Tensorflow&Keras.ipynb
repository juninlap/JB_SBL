{
  "nbformat": 4,
  "nbformat_minor": 0,
  "metadata": {
    "colab": {
      "provenance": [],
      "gpuType": "T4"
    },
    "kernelspec": {
      "name": "python3",
      "display_name": "Python 3"
    },
    "language_info": {
      "name": "python"
    },
    "accelerator": "GPU"
  },
  "cells": [
    {
      "cell_type": "markdown",
      "source": [
        "##DCNN_model\n",
        "\n",
        "used data : MNIST(28*28 Matrix = 784 pixel)"
      ],
      "metadata": {
        "id": "05YkwS5qepYh"
      }
    },
    {
      "cell_type": "code",
      "execution_count": 1,
      "metadata": {
        "id": "esaGvjw3edzL"
      },
      "outputs": [],
      "source": [
        "#import Library\n",
        "import numpy as np\n",
        "import matplotlib.pyplot as plt\n",
        "import tensorflow as tf\n",
        "from tensorflow.keras.datasets import mnist\n",
        "from tensorflow.keras.models import Sequential\n",
        "from tensorflow.keras.layers import Flatten, Dense, Conv2D, MaxPooling2D, BatchNormalization, Dropout\n",
        "from tensorflow.keras.losses import SparseCategoricalCrossentropy\n",
        "from tensorflow.keras.optimizers import Adam"
      ]
    },
    {
      "cell_type": "code",
      "source": [
        "#load data & nomalize data\n",
        "def load_mnist_dataset():\n",
        "  (train_validation_images, train_validation_labels), (test_images, test_labels) \\\n",
        "    = mnist.load_data()\n",
        "\n",
        "  train_validation_images = train_validation_images.reshape(-1,28,28,1)\n",
        "  test_images = test_images.reshape(-1,28,28,1)\n",
        "\n",
        "  train_validation_images = train_validation_images / 255.\n",
        "  test_images = test_images / 255.\n",
        "\n",
        "  n_train_validation = train_validation_images.shape[0]\n",
        "  train_ratio = 0.8\n",
        "  n_train = int(n_train_validation * train_ratio)\n",
        "\n",
        "  train_x = train_validation_images[:n_train]\n",
        "  train_y = train_validation_labels[:n_train]\n",
        "  validation_x = train_validation_images[n_train:]\n",
        "  validation_y = train_validation_labels[n_train:]\n",
        "  test_x = test_images\n",
        "  test_y = test_labels\n",
        "\n",
        "#train set\n",
        "  print('Image :', train_x.shape)\n",
        "  print('Label :', train_y.shape)\n",
        "#validation set\n",
        "  print('Image :', validation_x.shape)\n",
        "  print('Label :', validation_y.shape)\n",
        "#train and validation set\n",
        "  print('Image :', test_x.shape)\n",
        "  print('Label :', test_y.shape)\n",
        "\n",
        "  return train_x, train_y, validation_x, validation_y, test_x, test_y"
      ],
      "metadata": {
        "id": "NokIM9bAergn"
      },
      "execution_count": 2,
      "outputs": []
    },
    {
      "cell_type": "code",
      "source": [
        "train_x, train_y, validation_x, validation_y, test_x, test_y = load_mnist_dataset()"
      ],
      "metadata": {
        "colab": {
          "base_uri": "https://localhost:8080/"
        },
        "id": "lPX-S94ierjI",
        "outputId": "d14c2857-d312-4128-e698-d82424f92481"
      },
      "execution_count": 3,
      "outputs": [
        {
          "output_type": "stream",
          "name": "stdout",
          "text": [
            "Downloading data from https://storage.googleapis.com/tensorflow/tf-keras-datasets/mnist.npz\n",
            "11490434/11490434 [==============================] - 2s 0us/step\n",
            "Image : (48000, 28, 28, 1)\n",
            "Label : (48000,)\n",
            "Image : (12000, 28, 28, 1)\n",
            "Label : (12000,)\n",
            "Image : (10000, 28, 28, 1)\n",
            "Label : (10000,)\n"
          ]
        }
      ]
    },
    {
      "cell_type": "code",
      "source": [
        "model = Sequential()\n",
        "model.add(Conv2D(filters=24, kernel_size=(3,3), padding='same', activation='relu'))\n",
        "model.add(BatchNormalization())\n",
        "model.add(Conv2D(filters=36, kernel_size=(3,3), padding='same', activation='relu'))\n",
        "model.add(BatchNormalization())\n",
        "model.add(Conv2D(filters=48, kernel_size=(3,3), padding='same', activation='relu'))\n",
        "model.add(BatchNormalization())\n",
        "model.add(MaxPooling2D(pool_size=(2,2), strides=(2,2)))\n",
        "model.add(Conv2D(filters=60, kernel_size=(3,3), padding='same', activation='relu'))\n",
        "model.add(BatchNormalization())\n",
        "model.add(MaxPooling2D(pool_size=(2,2), strides=(2,2)))\n",
        "model.add(Conv2D(filters=72, kernel_size=(3,3), padding='same', activation='relu'))\n",
        "model.add(BatchNormalization())\n",
        "model.add(MaxPooling2D(pool_size=(2,2), strides=(2,2)))\n",
        "model.add(Flatten())\n",
        "model.add(Dense(128, activation='relu'))\n",
        "model.add(Dropout(0.5))\n",
        "model.add(Dense(10, activation='softmax'))\n",
        "\n",
        "model.compile(loss='sparse_categorical_crossentropy', optimizer='Adam', metrics=['accuracy'])"
      ],
      "metadata": {
        "id": "Sk7ir6-Uerlg"
      },
      "execution_count": 4,
      "outputs": []
    },
    {
      "cell_type": "code",
      "source": [
        "x = tf.random.uniform(shape=(1,28,28,1))\n",
        "for layer in model.layers:\n",
        "    x=layer(x)\n",
        "    print(layer.__class__.__name__, 'output shape:\\t',x.shape)"
      ],
      "metadata": {
        "colab": {
          "base_uri": "https://localhost:8080/"
        },
        "id": "oA3d4hVzernw",
        "outputId": "0e684319-cbf9-461c-ff26-f609ad4c78f0"
      },
      "execution_count": 5,
      "outputs": [
        {
          "output_type": "stream",
          "name": "stdout",
          "text": [
            "Conv2D output shape:\t (1, 28, 28, 24)\n",
            "BatchNormalization output shape:\t (1, 28, 28, 24)\n",
            "Conv2D output shape:\t (1, 28, 28, 36)\n",
            "BatchNormalization output shape:\t (1, 28, 28, 36)\n",
            "Conv2D output shape:\t (1, 28, 28, 48)\n",
            "BatchNormalization output shape:\t (1, 28, 28, 48)\n",
            "MaxPooling2D output shape:\t (1, 14, 14, 48)\n",
            "Conv2D output shape:\t (1, 14, 14, 60)\n",
            "BatchNormalization output shape:\t (1, 14, 14, 60)\n",
            "MaxPooling2D output shape:\t (1, 7, 7, 60)\n",
            "Conv2D output shape:\t (1, 7, 7, 72)\n",
            "BatchNormalization output shape:\t (1, 7, 7, 72)\n",
            "MaxPooling2D output shape:\t (1, 3, 3, 72)\n",
            "Flatten output shape:\t (1, 648)\n",
            "Dense output shape:\t (1, 128)\n",
            "Dropout output shape:\t (1, 128)\n",
            "Dense output shape:\t (1, 10)\n"
          ]
        }
      ]
    },
    {
      "cell_type": "code",
      "source": [
        "history = model.fit(train_x, train_y, batch_size=9, epochs=10,\\\n",
        "                    verbose=2, validation_data=(validation_x, validation_y))"
      ],
      "metadata": {
        "colab": {
          "base_uri": "https://localhost:8080/"
        },
        "id": "YKOSs7fyerqA",
        "outputId": "14f39d60-466d-441f-9789-fb492c50a546"
      },
      "execution_count": 6,
      "outputs": [
        {
          "output_type": "stream",
          "name": "stdout",
          "text": [
            "Epoch 1/10\n",
            "5334/5334 - 39s - loss: 0.2045 - accuracy: 0.9418 - val_loss: 0.0521 - val_accuracy: 0.9852 - 39s/epoch - 7ms/step\n",
            "Epoch 2/10\n",
            "5334/5334 - 34s - loss: 0.0957 - accuracy: 0.9740 - val_loss: 0.0463 - val_accuracy: 0.9892 - 34s/epoch - 6ms/step\n",
            "Epoch 3/10\n",
            "5334/5334 - 32s - loss: 0.0756 - accuracy: 0.9797 - val_loss: 0.0392 - val_accuracy: 0.9908 - 32s/epoch - 6ms/step\n",
            "Epoch 4/10\n",
            "5334/5334 - 31s - loss: 0.0612 - accuracy: 0.9839 - val_loss: 0.0406 - val_accuracy: 0.9908 - 31s/epoch - 6ms/step\n",
            "Epoch 5/10\n",
            "5334/5334 - 31s - loss: 0.0495 - accuracy: 0.9865 - val_loss: 0.0332 - val_accuracy: 0.9916 - 31s/epoch - 6ms/step\n",
            "Epoch 6/10\n",
            "5334/5334 - 33s - loss: 0.0425 - accuracy: 0.9884 - val_loss: 0.0546 - val_accuracy: 0.9902 - 33s/epoch - 6ms/step\n",
            "Epoch 7/10\n",
            "5334/5334 - 33s - loss: 0.0374 - accuracy: 0.9900 - val_loss: 0.0417 - val_accuracy: 0.9914 - 33s/epoch - 6ms/step\n",
            "Epoch 8/10\n",
            "5334/5334 - 31s - loss: 0.0317 - accuracy: 0.9912 - val_loss: 0.0442 - val_accuracy: 0.9923 - 31s/epoch - 6ms/step\n",
            "Epoch 9/10\n",
            "5334/5334 - 33s - loss: 0.0299 - accuracy: 0.9918 - val_loss: 0.0344 - val_accuracy: 0.9927 - 33s/epoch - 6ms/step\n",
            "Epoch 10/10\n",
            "5334/5334 - 31s - loss: 0.0270 - accuracy: 0.9926 - val_loss: 0.0415 - val_accuracy: 0.9925 - 31s/epoch - 6ms/step\n"
          ]
        }
      ]
    },
    {
      "cell_type": "code",
      "source": [
        "model.summary()"
      ],
      "metadata": {
        "colab": {
          "base_uri": "https://localhost:8080/"
        },
        "id": "eg12t3sIersY",
        "outputId": "463cc30e-066b-4d66-c694-dcbb68d4dff3"
      },
      "execution_count": 7,
      "outputs": [
        {
          "output_type": "stream",
          "name": "stdout",
          "text": [
            "Model: \"sequential\"\n",
            "_________________________________________________________________\n",
            " Layer (type)                Output Shape              Param #   \n",
            "=================================================================\n",
            " conv2d (Conv2D)             (None, 28, 28, 24)        240       \n",
            "                                                                 \n",
            " batch_normalization (BatchN  (None, 28, 28, 24)       96        \n",
            " ormalization)                                                   \n",
            "                                                                 \n",
            " conv2d_1 (Conv2D)           (None, 28, 28, 36)        7812      \n",
            "                                                                 \n",
            " batch_normalization_1 (Batc  (None, 28, 28, 36)       144       \n",
            " hNormalization)                                                 \n",
            "                                                                 \n",
            " conv2d_2 (Conv2D)           (None, 28, 28, 48)        15600     \n",
            "                                                                 \n",
            " batch_normalization_2 (Batc  (None, 28, 28, 48)       192       \n",
            " hNormalization)                                                 \n",
            "                                                                 \n",
            " max_pooling2d (MaxPooling2D  (None, 14, 14, 48)       0         \n",
            " )                                                               \n",
            "                                                                 \n",
            " conv2d_3 (Conv2D)           (None, 14, 14, 60)        25980     \n",
            "                                                                 \n",
            " batch_normalization_3 (Batc  (None, 14, 14, 60)       240       \n",
            " hNormalization)                                                 \n",
            "                                                                 \n",
            " max_pooling2d_1 (MaxPooling  (None, 7, 7, 60)         0         \n",
            " 2D)                                                             \n",
            "                                                                 \n",
            " conv2d_4 (Conv2D)           (None, 7, 7, 72)          38952     \n",
            "                                                                 \n",
            " batch_normalization_4 (Batc  (None, 7, 7, 72)         288       \n",
            " hNormalization)                                                 \n",
            "                                                                 \n",
            " max_pooling2d_2 (MaxPooling  (None, 3, 3, 72)         0         \n",
            " 2D)                                                             \n",
            "                                                                 \n",
            " flatten (Flatten)           (None, 648)               0         \n",
            "                                                                 \n",
            " dense (Dense)               (None, 128)               83072     \n",
            "                                                                 \n",
            " dropout (Dropout)           (None, 128)               0         \n",
            "                                                                 \n",
            " dense_1 (Dense)             (None, 10)                1290      \n",
            "                                                                 \n",
            "=================================================================\n",
            "Total params: 173,906\n",
            "Trainable params: 173,426\n",
            "Non-trainable params: 480\n",
            "_________________________________________________________________\n"
          ]
        }
      ]
    },
    {
      "cell_type": "code",
      "source": [
        "fig, axes = plt.subplots(2,1)\n",
        "\n",
        "axes[0].plot(history.history['loss'], label='Train loss')\n",
        "axes[0].plot(history.history['val_loss'], label='Validation loss')\n",
        "axes[0].set_ylabel('Crossentropy')\n",
        "axes[0].legend()\n",
        "\n",
        "axes[1].plot(history.history['accuracy'], label='Train accuracy')\n",
        "axes[1].plot(history.history['val_accuracy'], label='Validation accuracy')\n",
        "axes[1].set_ylabel('Accuarcy')\n",
        "axes[1].legend()\n",
        "axes[1].set_xlabel('Epochs')\n",
        "\n",
        "fig.show()"
      ],
      "metadata": {
        "colab": {
          "base_uri": "https://localhost:8080/",
          "height": 449
        },
        "id": "2nEP5JXJeyvT",
        "outputId": "6ba010ed-42aa-49ca-cd5c-8b2cc66a2546"
      },
      "execution_count": 8,
      "outputs": [
        {
          "output_type": "display_data",
          "data": {
            "text/plain": [
              "<Figure size 640x480 with 2 Axes>"
            ],
            "image/png": "[encoded data removed]"
          },
          "metadata": {}
        }
      ]
    },
    {
      "cell_type": "code",
      "source": [
        "result= model.evaluate(test_x, test_y, verbose=2)\n",
        "\n",
        "print('Test loss : {:.4f}\\t Test accuracy : {:.2f}%'.format(result[0], result[1]*100))"
      ],
      "metadata": {
        "colab": {
          "base_uri": "https://localhost:8080/"
        },
        "id": "OnhQQ2BNeyxj",
        "outputId": "349e5f53-bcb5-4591-b9ff-75b17fd93216"
      },
      "execution_count": 9,
      "outputs": [
        {
          "output_type": "stream",
          "name": "stdout",
          "text": [
            "313/313 - 2s - loss: 0.0248 - accuracy: 0.9941 - 2s/epoch - 6ms/step\n",
            "Test loss : 0.0248\t Test accuracy : 99.41%\n"
          ]
        }
      ]
    },
    {
      "cell_type": "code",
      "source": [
        "layers=model.layers\n",
        "print(layers)"
      ],
      "metadata": {
        "colab": {
          "base_uri": "https://localhost:8080/"
        },
        "id": "ZIoJ128Wey10",
        "outputId": "5477fe7a-cd6e-4904-99d4-4c2ef7f6abe9"
      },
      "execution_count": 10,
      "outputs": [
        {
          "output_type": "stream",
          "name": "stdout",
          "text": [
            "[<keras.layers.convolutional.conv2d.Conv2D object at 0x7fcc14d94e20>, <keras.layers.normalization.batch_normalization.BatchNormalization object at 0x7fcc14d94e80>, <keras.layers.convolutional.conv2d.Conv2D object at 0x7fcc14d94280>, <keras.layers.normalization.batch_normalization.BatchNormalization object at 0x7fcc14d94be0>, <keras.layers.convolutional.conv2d.Conv2D object at 0x7fcc14d94310>, <keras.layers.normalization.batch_normalization.BatchNormalization object at 0x7fcc9e3cdf90>, <keras.layers.pooling.max_pooling2d.MaxPooling2D object at 0x7fcc9e3cdc00>, <keras.layers.convolutional.conv2d.Conv2D object at 0x7fcc14d4e620>, <keras.layers.normalization.batch_normalization.BatchNormalization object at 0x7fcc14d941c0>, <keras.layers.pooling.max_pooling2d.MaxPooling2D object at 0x7fcc82715bd0>, <keras.layers.convolutional.conv2d.Conv2D object at 0x7fcc14d4e260>, <keras.layers.normalization.batch_normalization.BatchNormalization object at 0x7fcc14d4e650>, <keras.layers.pooling.max_pooling2d.MaxPooling2D object at 0x7fcc14d4e740>, <keras.layers.reshaping.flatten.Flatten object at 0x7fcc14d4e890>, <keras.layers.core.dense.Dense object at 0x7fcbf0310910>, <keras.layers.regularization.dropout.Dropout object at 0x7fcbf0310730>, <keras.layers.core.dense.Dense object at 0x7fcbf0310df0>]\n"
          ]
        }
      ]
    },
    {
      "cell_type": "code",
      "source": [
        "layers[0].get_weights()[0]"
      ],
      "metadata": {
        "colab": {
          "base_uri": "https://localhost:8080/"
        },
        "id": "NF96DvRbey4D",
        "outputId": "3d70c10e-d826-4433-e6b9-289c41958b19"
      },
      "execution_count": 11,
      "outputs": [
        {
          "output_type": "execute_result",
          "data": {
            "text/plain": [
              "array([[[[ 0.1812109 , -0.12693597, -0.00866605, -0.06165675,\n",
              "           0.28840184, -0.22983041, -0.10070968,  0.10052921,\n",
              "           0.4422285 ,  0.4122027 ,  0.29471925,  0.11567351,\n",
              "          -0.03956615, -0.0800435 , -0.11204906, -0.32531837,\n",
              "           0.10911869, -0.15064517, -0.01366873, -0.22484507,\n",
              "           0.03182582,  0.35003218,  0.48130575, -0.1722314 ]],\n",
              "\n",
              "        [[-0.03406924,  0.03541625, -0.15412766, -0.16411476,\n",
              "           0.06304011, -0.18849261, -0.02276547,  0.27371457,\n",
              "          -0.14743184,  0.01889381,  0.00844503, -0.2668566 ,\n",
              "           0.0069873 ,  0.02044185,  0.12013157, -0.1833473 ,\n",
              "           0.20850696, -0.33507732, -0.2491004 ,  0.03966894,\n",
              "           0.08819137,  0.04837749,  0.22374758, -0.47549593]],\n",
              "\n",
              "        [[ 0.48320606,  0.00571584, -0.15272017, -0.27808577,\n",
              "          -0.5946683 ,  0.09340913, -0.08132784, -0.04808783,\n",
              "           0.04820029, -0.40950048, -0.38713217, -0.43738538,\n",
              "          -0.07409314,  0.20355622,  0.43500027,  0.23554353,\n",
              "           0.2944739 , -0.18154572, -0.30767682,  0.25852412,\n",
              "          -0.06645554, -0.39124647, -0.1640054 , -0.06723049]]],\n",
              "\n",
              "\n",
              "       [[[-0.1493449 ,  0.25550136, -0.03096406,  0.30171314,\n",
              "           0.01863053, -0.5917598 , -0.04500642, -0.35092476,\n",
              "           0.08973855, -0.02769008,  0.18149447,  0.32213125,\n",
              "          -0.01852932,  0.16720773,  0.06628391,  0.23597941,\n",
              "           0.0968919 , -0.34861603,  0.07201157,  0.07724258,\n",
              "           0.29573324,  0.19135267,  0.22987027,  0.34997317]],\n",
              "\n",
              "        [[ 0.10009248,  0.7066891 , -0.00386284, -0.05224144,\n",
              "          -0.08821243, -0.14220396,  0.02191185, -0.3602148 ,\n",
              "          -0.28077337, -0.47508323,  0.25606593,  0.22723725,\n",
              "          -0.03767015, -0.5083817 ,  0.10489648,  0.32923234,\n",
              "           0.18182069,  0.0898032 , -0.08025437,  0.4786571 ,\n",
              "           0.5768763 ,  0.3570429 ,  0.06724557, -0.04945877]],\n",
              "\n",
              "        [[ 0.17239851, -0.17013961, -0.0475909 , -0.5487197 ,\n",
              "          -0.31228355,  0.38404888, -0.12340711,  0.09854918,\n",
              "          -0.26903328,  0.07105357, -0.11519585, -0.12162481,\n",
              "          -0.15135914, -0.15018408,  0.23895238, -0.27063632,\n",
              "          -0.23849016,  0.29149213, -0.11487409,  0.16558932,\n",
              "           0.01217276, -0.14702457, -0.01906242,  0.25680655]]],\n",
              "\n",
              "\n",
              "       [[[-0.32974005, -0.17436975, -0.2009013 ,  0.34960616,\n",
              "          -0.14274547, -0.40267357, -0.10241038,  0.32604018,\n",
              "          -0.13284254, -0.2111879 ,  0.17532967,  0.15286367,\n",
              "          -0.11072354,  0.40741676, -0.3854705 ,  0.09292018,\n",
              "           0.06755695,  0.00383126,  0.2768553 , -0.2879198 ,\n",
              "          -0.18989189, -0.23454942, -0.05901257,  0.18568647]],\n",
              "\n",
              "        [[-0.3900527 , -0.08540536, -0.03953023, -0.2745293 ,\n",
              "          -0.34589523, -0.15199168,  0.00197055, -0.18052685,\n",
              "          -0.33861843,  0.03011405, -0.10675739,  0.36315456,\n",
              "          -0.00441799, -0.09556855, -0.21963514,  0.2774082 ,\n",
              "          -0.40635636, -0.17807588,  0.13205726, -0.06120051,\n",
              "          -0.15592544, -0.09798121, -0.30599317,  0.062645  ]],\n",
              "\n",
              "        [[-0.10739964,  0.03316364,  0.02990418, -0.4037641 ,\n",
              "          -0.3319058 ,  0.19435565, -0.05264023, -0.3079105 ,\n",
              "          -0.3066511 ,  0.23006749, -0.19749299,  0.09389658,\n",
              "          -0.07783888,  0.12221928, -0.15514064, -0.22245593,\n",
              "          -0.3399992 ,  0.3501623 ,  0.38559207, -0.14913248,\n",
              "          -0.13337077,  0.00647807, -0.26501918,  0.03001301]]]],\n",
              "      dtype=float32)"
            ]
          },
          "metadata": {},
          "execution_count": 11
        }
      ]
    },
    {
      "cell_type": "code",
      "source": [
        "prediction = model.predict(test_x)\n",
        "plt.imshow(test_x[0], 'gray')\n",
        "print('Probabilty is {}'.format(prediction[0].round()))\n",
        "plt.title('Prediction is {}'.format(np.argmax(prediction[0])))\n",
        "plt.show()"
      ],
      "metadata": {
        "colab": {
          "base_uri": "https://localhost:8080/",
          "height": 489
        },
        "id": "cAIjXCn3e2gj",
        "outputId": "baa9f6a0-389c-41b6-cb49-6b430920a003"
      },
      "execution_count": 12,
      "outputs": [
        {
          "output_type": "stream",
          "name": "stdout",
          "text": [
            "313/313 [==============================] - 2s 4ms/step\n",
            "Probabilty is [0. 0. 0. 0. 0. 0. 0. 1. 0. 0.]\n"
          ]
        },
        {
          "output_type": "display_data",
          "data": {
            "text/plain": [
              "<Figure size 640x480 with 1 Axes>"
            ],
            "image/png": "[encoded data removed]"
          },
          "metadata": {}
        }
      ]
    },
    {
      "cell_type": "code",
      "source": [
        "layers=model.layers\n",
        "print(layers)"
      ],
      "metadata": {
        "colab": {
          "base_uri": "https://localhost:8080/"
        },
        "id": "aa7p1YEee2iz",
        "outputId": "e3c62c8c-af15-4a20-9219-7b14014f3fac"
      },
      "execution_count": 13,
      "outputs": [
        {
          "output_type": "stream",
          "name": "stdout",
          "text": [
            "[<keras.layers.convolutional.conv2d.Conv2D object at 0x7fcc14d94e20>, <keras.layers.normalization.batch_normalization.BatchNormalization object at 0x7fcc14d94e80>, <keras.layers.convolutional.conv2d.Conv2D object at 0x7fcc14d94280>, <keras.layers.normalization.batch_normalization.BatchNormalization object at 0x7fcc14d94be0>, <keras.layers.convolutional.conv2d.Conv2D object at 0x7fcc14d94310>, <keras.layers.normalization.batch_normalization.BatchNormalization object at 0x7fcc9e3cdf90>, <keras.layers.pooling.max_pooling2d.MaxPooling2D object at 0x7fcc9e3cdc00>, <keras.layers.convolutional.conv2d.Conv2D object at 0x7fcc14d4e620>, <keras.layers.normalization.batch_normalization.BatchNormalization object at 0x7fcc14d941c0>, <keras.layers.pooling.max_pooling2d.MaxPooling2D object at 0x7fcc82715bd0>, <keras.layers.convolutional.conv2d.Conv2D object at 0x7fcc14d4e260>, <keras.layers.normalization.batch_normalization.BatchNormalization object at 0x7fcc14d4e650>, <keras.layers.pooling.max_pooling2d.MaxPooling2D object at 0x7fcc14d4e740>, <keras.layers.reshaping.flatten.Flatten object at 0x7fcc14d4e890>, <keras.layers.core.dense.Dense object at 0x7fcbf0310910>, <keras.layers.regularization.dropout.Dropout object at 0x7fcbf0310730>, <keras.layers.core.dense.Dense object at 0x7fcbf0310df0>]\n"
          ]
        }
      ]
    },
    {
      "cell_type": "code",
      "source": [
        "layers[0].get_weights()[0]"
      ],
      "metadata": {
        "colab": {
          "base_uri": "https://localhost:8080/"
        },
        "id": "SQzGj_9Ge4rE",
        "outputId": "554acea5-5141-4d20-c168-72c9bd008a5c"
      },
      "execution_count": 14,
      "outputs": [
        {
          "output_type": "execute_result",
          "data": {
            "text/plain": [
              "array([[[[ 0.1812109 , -0.12693597, -0.00866605, -0.06165675,\n",
              "           0.28840184, -0.22983041, -0.10070968,  0.10052921,\n",
              "           0.4422285 ,  0.4122027 ,  0.29471925,  0.11567351,\n",
              "          -0.03956615, -0.0800435 , -0.11204906, -0.32531837,\n",
              "           0.10911869, -0.15064517, -0.01366873, -0.22484507,\n",
              "           0.03182582,  0.35003218,  0.48130575, -0.1722314 ]],\n",
              "\n",
              "        [[-0.03406924,  0.03541625, -0.15412766, -0.16411476,\n",
              "           0.06304011, -0.18849261, -0.02276547,  0.27371457,\n",
              "          -0.14743184,  0.01889381,  0.00844503, -0.2668566 ,\n",
              "           0.0069873 ,  0.02044185,  0.12013157, -0.1833473 ,\n",
              "           0.20850696, -0.33507732, -0.2491004 ,  0.03966894,\n",
              "           0.08819137,  0.04837749,  0.22374758, -0.47549593]],\n",
              "\n",
              "        [[ 0.48320606,  0.00571584, -0.15272017, -0.27808577,\n",
              "          -0.5946683 ,  0.09340913, -0.08132784, -0.04808783,\n",
              "           0.04820029, -0.40950048, -0.38713217, -0.43738538,\n",
              "          -0.07409314,  0.20355622,  0.43500027,  0.23554353,\n",
              "           0.2944739 , -0.18154572, -0.30767682,  0.25852412,\n",
              "          -0.06645554, -0.39124647, -0.1640054 , -0.06723049]]],\n",
              "\n",
              "\n",
              "       [[[-0.1493449 ,  0.25550136, -0.03096406,  0.30171314,\n",
              "           0.01863053, -0.5917598 , -0.04500642, -0.35092476,\n",
              "           0.08973855, -0.02769008,  0.18149447,  0.32213125,\n",
              "          -0.01852932,  0.16720773,  0.06628391,  0.23597941,\n",
              "           0.0968919 , -0.34861603,  0.07201157,  0.07724258,\n",
              "           0.29573324,  0.19135267,  0.22987027,  0.34997317]],\n",
              "\n",
              "        [[ 0.10009248,  0.7066891 , -0.00386284, -0.05224144,\n",
              "          -0.08821243, -0.14220396,  0.02191185, -0.3602148 ,\n",
              "          -0.28077337, -0.47508323,  0.25606593,  0.22723725,\n",
              "          -0.03767015, -0.5083817 ,  0.10489648,  0.32923234,\n",
              "           0.18182069,  0.0898032 , -0.08025437,  0.4786571 ,\n",
              "           0.5768763 ,  0.3570429 ,  0.06724557, -0.04945877]],\n",
              "\n",
              "        [[ 0.17239851, -0.17013961, -0.0475909 , -0.5487197 ,\n",
              "          -0.31228355,  0.38404888, -0.12340711,  0.09854918,\n",
              "          -0.26903328,  0.07105357, -0.11519585, -0.12162481,\n",
              "          -0.15135914, -0.15018408,  0.23895238, -0.27063632,\n",
              "          -0.23849016,  0.29149213, -0.11487409,  0.16558932,\n",
              "           0.01217276, -0.14702457, -0.01906242,  0.25680655]]],\n",
              "\n",
              "\n",
              "       [[[-0.32974005, -0.17436975, -0.2009013 ,  0.34960616,\n",
              "          -0.14274547, -0.40267357, -0.10241038,  0.32604018,\n",
              "          -0.13284254, -0.2111879 ,  0.17532967,  0.15286367,\n",
              "          -0.11072354,  0.40741676, -0.3854705 ,  0.09292018,\n",
              "           0.06755695,  0.00383126,  0.2768553 , -0.2879198 ,\n",
              "          -0.18989189, -0.23454942, -0.05901257,  0.18568647]],\n",
              "\n",
              "        [[-0.3900527 , -0.08540536, -0.03953023, -0.2745293 ,\n",
              "          -0.34589523, -0.15199168,  0.00197055, -0.18052685,\n",
              "          -0.33861843,  0.03011405, -0.10675739,  0.36315456,\n",
              "          -0.00441799, -0.09556855, -0.21963514,  0.2774082 ,\n",
              "          -0.40635636, -0.17807588,  0.13205726, -0.06120051,\n",
              "          -0.15592544, -0.09798121, -0.30599317,  0.062645  ]],\n",
              "\n",
              "        [[-0.10739964,  0.03316364,  0.02990418, -0.4037641 ,\n",
              "          -0.3319058 ,  0.19435565, -0.05264023, -0.3079105 ,\n",
              "          -0.3066511 ,  0.23006749, -0.19749299,  0.09389658,\n",
              "          -0.07783888,  0.12221928, -0.15514064, -0.22245593,\n",
              "          -0.3399992 ,  0.3501623 ,  0.38559207, -0.14913248,\n",
              "          -0.13337077,  0.00647807, -0.26501918,  0.03001301]]]],\n",
              "      dtype=float32)"
            ]
          },
          "metadata": {},
          "execution_count": 14
        }
      ]
    },
    {
      "cell_type": "code",
      "source": [
        "layers[0].get_weights()[0].shape"
      ],
      "metadata": {
        "colab": {
          "base_uri": "https://localhost:8080/"
        },
        "id": "NVGDkupie4t0",
        "outputId": "4a564c19-b582-427e-9f26-82784dec81bd"
      },
      "execution_count": 15,
      "outputs": [
        {
          "output_type": "execute_result",
          "data": {
            "text/plain": [
              "(3, 3, 1, 24)"
            ]
          },
          "metadata": {},
          "execution_count": 15
        }
      ]
    }
  ]
}