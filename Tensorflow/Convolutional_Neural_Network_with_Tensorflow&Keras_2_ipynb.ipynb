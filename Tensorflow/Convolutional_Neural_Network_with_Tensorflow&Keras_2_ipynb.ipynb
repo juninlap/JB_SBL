{
  "cells": [
    {
      "cell_type": "markdown",
      "metadata": {
        "id": "n7SXYrl_hd_c"
      },
      "source": [
        "##CNN_model(LeakyReLu ver)\n",
        "\n",
        "used data : MNIST(28*28 Matrix = 784 pixel)"
      ]
    },
    {
      "cell_type": "code",
      "execution_count": 1,
      "metadata": {
        "id": "gLdDtaaGhaRy"
      },
      "outputs": [],
      "source": [
        "#import Library\n",
        "import numpy as np\n",
        "import matplotlib.pyplot as plt\n",
        "import tensorflow as tf\n",
        "from tensorflow.keras.datasets import mnist\n",
        "from tensorflow.keras.models import Sequential\n",
        "from tensorflow.keras.layers import Flatten, Dense, Conv2D, MaxPooling2D\n",
        "from tensorflow.keras.losses import SparseCategoricalCrossentropy\n",
        "from tensorflow.keras.optimizers import Adam\n",
        "from keras.layers import LeakyReLU"
      ]
    },
    {
      "cell_type": "code",
      "execution_count": 2,
      "metadata": {
        "id": "47KkLgDbhlYZ"
      },
      "outputs": [],
      "source": [
        "#load data & nomalize data\n",
        "def load_mnist_dataset():\n",
        "  (train_validation_images, train_validation_labels), (test_images, test_labels) \\\n",
        "    = mnist.load_data()\n",
        "\n",
        "  train_validation_images = train_validation_images.reshape(-1,28,28,1)\n",
        "  test_images = test_images.reshape(-1,28,28,1)\n",
        "\n",
        "  train_validation_images = train_validation_images / 255.\n",
        "  test_images = test_images / 255.\n",
        "\n",
        "  n_train_validation = train_validation_images.shape[0]\n",
        "  train_ratio = 0.8\n",
        "  n_train = int(n_train_validation * train_ratio)\n",
        "\n",
        "  train_x = train_validation_images[:n_train]\n",
        "  train_y = train_validation_labels[:n_train]\n",
        "  validation_x = train_validation_images[n_train:]\n",
        "  validation_y = train_validation_labels[n_train:]\n",
        "  test_x = test_images\n",
        "  test_y = test_labels\n",
        "\n",
        "#train set\n",
        "  print('Image :', train_x.shape)\n",
        "  print('Label :', train_y.shape)\n",
        "#validtion set\n",
        "  print('Image :', validation_x.shape)\n",
        "  print('Label :', validation_y.shape)\n",
        "#train&validation set\n",
        "  print('Image :', test_x.shape)\n",
        "  print('Label :', test_y.shape)\n",
        "\n",
        "  return train_x, train_y, validation_x, validation_y, test_x, test_y"
      ]
    },
    {
      "cell_type": "code",
      "execution_count": 3,
      "metadata": {
        "colab": {
          "base_uri": "https://localhost:8080/"
        },
        "id": "57YPS8Sihlag",
        "outputId": "5d5eb4fb-5e2f-48e7-eb76-42740220351f"
      },
      "outputs": [
        {
          "output_type": "stream",
          "name": "stdout",
          "text": [
            "Downloading data from https://storage.googleapis.com/tensorflow/tf-keras-datasets/mnist.npz\n",
            "11490434/11490434 [==============================] - 2s 0us/step\n",
            "Image : (48000, 28, 28, 1)\n",
            "Label : (48000,)\n",
            "Image : (12000, 28, 28, 1)\n",
            "Label : (12000,)\n",
            "Image : (10000, 28, 28, 1)\n",
            "Label : (10000,)\n"
          ]
        }
      ],
      "source": [
        "train_x, train_y, validation_x, validation_y, test_x, test_y = load_mnist_dataset()"
      ]
    },
    {
      "cell_type": "code",
      "execution_count": 4,
      "metadata": {
        "id": "oNWpQ_jwhlc5"
      },
      "outputs": [],
      "source": [
        "#build CNN model\n",
        "model = Sequential()\n",
        "model.add(Conv2D(filters=24, kernel_size=(3,3), padding='valid', activation='LeakyReLU'))\n",
        "model.add(MaxPooling2D(pool_size=(2,2), strides=(2,2)))\n",
        "model.add(Conv2D(filters=36, kernel_size=(3,3), padding='valid', activation='LeakyReLU'))\n",
        "model.add(MaxPooling2D(pool_size=(2,2), strides=(2,2)))\n",
        "model.add(Flatten())\n",
        "model.add(Dense(128, activation='LeakyReLU'))\n",
        "model.add(Dense(10, activation='softmax'))\n",
        "\n",
        "model.compile(loss='sparse_categorical_crossentropy', optimizer='Adam', metrics=['accuracy'])"
      ]
    },
    {
      "cell_type": "code",
      "execution_count": 5,
      "metadata": {
        "id": "sitjUjiEhlfJ",
        "colab": {
          "base_uri": "https://localhost:8080/"
        },
        "outputId": "4cdaf486-bc2e-4384-b2f9-fcba911dd91d"
      },
      "outputs": [
        {
          "output_type": "stream",
          "name": "stdout",
          "text": [
            "Epoch 1/10\n",
            "5334/5334 - 33s - loss: 0.1221 - accuracy: 0.9618 - val_loss: 0.0707 - val_accuracy: 0.9779 - 33s/epoch - 6ms/step\n",
            "Epoch 2/10\n",
            "5334/5334 - 19s - loss: 0.0519 - accuracy: 0.9838 - val_loss: 0.0548 - val_accuracy: 0.9829 - 19s/epoch - 4ms/step\n",
            "Epoch 3/10\n",
            "5334/5334 - 22s - loss: 0.0382 - accuracy: 0.9880 - val_loss: 0.0444 - val_accuracy: 0.9880 - 22s/epoch - 4ms/step\n",
            "Epoch 4/10\n",
            "5334/5334 - 18s - loss: 0.0295 - accuracy: 0.9906 - val_loss: 0.0493 - val_accuracy: 0.9850 - 18s/epoch - 3ms/step\n",
            "Epoch 5/10\n",
            "5334/5334 - 19s - loss: 0.0245 - accuracy: 0.9920 - val_loss: 0.0572 - val_accuracy: 0.9858 - 19s/epoch - 4ms/step\n",
            "Epoch 6/10\n",
            "5334/5334 - 18s - loss: 0.0207 - accuracy: 0.9933 - val_loss: 0.0481 - val_accuracy: 0.9874 - 18s/epoch - 3ms/step\n",
            "Epoch 7/10\n",
            "5334/5334 - 19s - loss: 0.0186 - accuracy: 0.9940 - val_loss: 0.0560 - val_accuracy: 0.9872 - 19s/epoch - 4ms/step\n",
            "Epoch 8/10\n",
            "5334/5334 - 18s - loss: 0.0177 - accuracy: 0.9943 - val_loss: 0.0526 - val_accuracy: 0.9874 - 18s/epoch - 3ms/step\n",
            "Epoch 9/10\n",
            "5334/5334 - 19s - loss: 0.0164 - accuracy: 0.9948 - val_loss: 0.0840 - val_accuracy: 0.9848 - 19s/epoch - 4ms/step\n",
            "Epoch 10/10\n",
            "5334/5334 - 19s - loss: 0.0154 - accuracy: 0.9954 - val_loss: 0.0555 - val_accuracy: 0.9888 - 19s/epoch - 3ms/step\n"
          ]
        }
      ],
      "source": [
        "#train model\n",
        "history = model.fit(train_x, train_y, batch_size=9, epochs=10,\\\n",
        "                    verbose=2, validation_data=(validation_x, validation_y))"
      ]
    },
    {
      "cell_type": "code",
      "execution_count": 6,
      "metadata": {
        "id": "PVdWv2IThlhY",
        "colab": {
          "base_uri": "https://localhost:8080/",
          "height": 449
        },
        "outputId": "4f222497-5947-449e-ea22-90ce664cb740"
      },
      "outputs": [
        {
          "output_type": "display_data",
          "data": {
            "text/plain": [
              "<Figure size 640x480 with 2 Axes>"
            ],
            "image/png": "[encoded data removed]"
          },
          "metadata": {}
        }
      ],
      "source": [
        "#Plot training loss and accuracy\n",
        "fig, axes = plt.subplots(2,1)\n",
        "\n",
        "axes[0].plot(history.history['loss'], label='Train loss')\n",
        "axes[0].plot(history.history['val_loss'], label='Validation loss')\n",
        "axes[0].set_ylabel('Crossentropy')\n",
        "axes[0].legend()\n",
        "\n",
        "axes[1].plot(history.history['accuracy'], label='Train accuracy')\n",
        "axes[1].plot(history.history['val_accuracy'], label='Validation accuracy')\n",
        "axes[1].set_ylabel('Accuarcy')\n",
        "axes[1].legend()\n",
        "axes[1].set_xlabel('Epochs')\n",
        "\n",
        "fig.show()"
      ]
    },
    {
      "cell_type": "code",
      "execution_count": 7,
      "metadata": {
        "id": "spZACkHChljR",
        "colab": {
          "base_uri": "https://localhost:8080/"
        },
        "outputId": "221e6b91-1248-4aff-c128-ffc874e8d611"
      },
      "outputs": [
        {
          "output_type": "stream",
          "name": "stdout",
          "text": [
            "Model: \"sequential\"\n",
            "_________________________________________________________________\n",
            " Layer (type)                Output Shape              Param #   \n",
            "=================================================================\n",
            " conv2d (Conv2D)             (None, 26, 26, 24)        240       \n",
            "                                                                 \n",
            " max_pooling2d (MaxPooling2D  (None, 13, 13, 24)       0         \n",
            " )                                                               \n",
            "                                                                 \n",
            " conv2d_1 (Conv2D)           (None, 11, 11, 36)        7812      \n",
            "                                                                 \n",
            " max_pooling2d_1 (MaxPooling  (None, 5, 5, 36)         0         \n",
            " 2D)                                                             \n",
            "                                                                 \n",
            " flatten (Flatten)           (None, 900)               0         \n",
            "                                                                 \n",
            " dense (Dense)               (None, 128)               115328    \n",
            "                                                                 \n",
            " dense_1 (Dense)             (None, 10)                1290      \n",
            "                                                                 \n",
            "=================================================================\n",
            "Total params: 124,670\n",
            "Trainable params: 124,670\n",
            "Non-trainable params: 0\n",
            "_________________________________________________________________\n"
          ]
        }
      ],
      "source": [
        "model.summary()"
      ]
    },
    {
      "cell_type": "code",
      "execution_count": 8,
      "metadata": {
        "id": "rLYPEXeZhuZh",
        "colab": {
          "base_uri": "https://localhost:8080/"
        },
        "outputId": "edea8c1a-2697-4cf4-8693-05951d2320a7"
      },
      "outputs": [
        {
          "output_type": "stream",
          "name": "stdout",
          "text": [
            "313/313 - 1s - loss: 0.0423 - accuracy: 0.9897 - 794ms/epoch - 3ms/step\n",
            "Test loss : 0.0423\t Test accuracy : 98.97%\n"
          ]
        }
      ],
      "source": [
        "#test model\n",
        "result= model.evaluate(test_x, test_y, verbose=2)\n",
        "\n",
        "print('Test loss : {:.4f}\\t Test accuracy : {:.2f}%'.format(result[0], result[1]*100))"
      ]
    },
    {
      "cell_type": "code",
      "execution_count": 9,
      "metadata": {
        "id": "a0E3yXxuhub6",
        "colab": {
          "base_uri": "https://localhost:8080/",
          "height": 489
        },
        "outputId": "01735b17-ad9d-431d-d7fe-abdb0c7c0a75"
      },
      "outputs": [
        {
          "output_type": "stream",
          "name": "stdout",
          "text": [
            "313/313 [==============================] - 1s 2ms/step\n",
            "Probabilty is [0. 0. 0. 0. 0. 0. 0. 1. 0. 0.]\n"
          ]
        },
        {
          "output_type": "display_data",
          "data": {
            "text/plain": [
              "<Figure size 640x480 with 1 Axes>"
            ],
            "image/png": "[encoded data removed]"
          },
          "metadata": {}
        }
      ],
      "source": [
        "prediction = model.predict(test_x)\n",
        "plt.imshow(test_x[0], 'gray')\n",
        "print('Probabilty is {}'.format(prediction[0].round()))\n",
        "plt.title('Prediction is {}'.format(np.argmax(prediction[0])))\n",
        "plt.show()"
      ]
    },
    {
      "cell_type": "code",
      "execution_count": 10,
      "metadata": {
        "id": "99DnHiKqhueR",
        "colab": {
          "base_uri": "https://localhost:8080/"
        },
        "outputId": "c92aea04-a686-4bc7-8eff-4129da1144e7"
      },
      "outputs": [
        {
          "output_type": "stream",
          "name": "stdout",
          "text": [
            "[<keras.layers.convolutional.conv2d.Conv2D object at 0x7f2704bd16c0>, <keras.layers.pooling.max_pooling2d.MaxPooling2D object at 0x7f2704bd2c50>, <keras.layers.convolutional.conv2d.Conv2D object at 0x7f2704bd2d40>, <keras.layers.pooling.max_pooling2d.MaxPooling2D object at 0x7f2704bd2dd0>, <keras.layers.reshaping.flatten.Flatten object at 0x7f2704bd0040>, <keras.layers.core.dense.Dense object at 0x7f2704bd0070>, <keras.layers.core.dense.Dense object at 0x7f2704b8f9d0>]\n"
          ]
        }
      ],
      "source": [
        "layers=model.layers\n",
        "print(layers)"
      ]
    },
    {
      "cell_type": "code",
      "execution_count": 11,
      "metadata": {
        "id": "ZUYE6jnOhugZ",
        "colab": {
          "base_uri": "https://localhost:8080/"
        },
        "outputId": "158885cb-b8ce-4b0b-d14c-3460fc5d9c74"
      },
      "outputs": [
        {
          "output_type": "execute_result",
          "data": {
            "text/plain": [
              "array([[[[-0.2669709 ,  0.03588421,  0.14203629, -0.0893622 ,\n",
              "           0.02372728, -0.11270512, -0.15125085,  0.02099695,\n",
              "           0.02420891, -0.32809216,  0.00622579, -0.13545063,\n",
              "          -0.04354986, -0.04274616, -0.15004084, -0.14269684,\n",
              "           0.11847788,  0.04929068, -0.02352938, -0.11233114,\n",
              "          -0.02234556,  0.23909509, -0.02514084,  0.03793518]],\n",
              "\n",
              "        [[ 0.0907103 ,  0.11065211, -0.03455685, -0.00153208,\n",
              "           0.19110462,  0.04004834, -0.17946625, -0.18177783,\n",
              "          -0.03226587,  0.01978366,  0.02584267, -0.29988295,\n",
              "          -0.07431828,  0.08531928,  0.0507028 ,  0.17920035,\n",
              "          -0.25761086, -0.07751436,  0.02227094,  0.06525147,\n",
              "          -0.22257966, -0.00305548, -0.12565953,  0.15016678]],\n",
              "\n",
              "        [[ 0.06572497, -0.21242379, -0.33471575, -0.08545112,\n",
              "           0.26433843, -0.00671443,  0.28439113, -0.02881273,\n",
              "           0.1026929 ,  0.31877396, -0.08284175, -0.08300827,\n",
              "          -0.25454286,  0.0529443 ,  0.16263878,  0.23386855,\n",
              "           0.10724975, -0.00292255,  0.1471062 , -0.18025865,\n",
              "          -0.27210525, -0.1260164 ,  0.03433166,  0.272632  ]]],\n",
              "\n",
              "\n",
              "       [[[-0.07457732, -0.07472339,  0.42451307,  0.01184993,\n",
              "          -0.18712433,  0.18217437, -0.2709924 ,  0.08489825,\n",
              "          -0.09204631,  0.0145459 , -0.07204568, -0.25831583,\n",
              "           0.13529915,  0.07027481,  0.19957359, -0.21412738,\n",
              "           0.03364956, -0.12040898, -0.1075747 ,  0.0266004 ,\n",
              "           0.06691427,  0.0366883 , -0.11074327,  0.3203512 ]],\n",
              "\n",
              "        [[ 0.38410735,  0.25705248, -0.12912402,  0.06881402,\n",
              "          -0.03143414,  0.10794605, -0.04655347,  0.14903824,\n",
              "          -0.03220141, -0.5588972 ,  0.04772203,  0.0235671 ,\n",
              "           0.36870039, -0.01452022,  0.13497892, -0.02876925,\n",
              "          -0.308217  ,  0.06289589, -0.20241249,  0.18464127,\n",
              "          -0.01409319, -0.4468572 ,  0.15264371,  0.14779747]],\n",
              "\n",
              "        [[-0.13723297, -0.32006606, -0.12206522,  0.09023719,\n",
              "          -0.02899961, -0.02348846,  0.31012917, -0.06840167,\n",
              "           0.0620459 , -0.30698594,  0.06078659,  0.18785611,\n",
              "          -0.09604447, -0.25052747, -0.0858162 ,  0.19836913,\n",
              "           0.11575017,  0.02221613, -0.00356637,  0.1441099 ,\n",
              "          -0.05068581, -0.14407589,  0.0525079 , -0.06101124]]],\n",
              "\n",
              "\n",
              "       [[[ 0.0176508 , -0.08106673,  0.1163749 , -0.0918622 ,\n",
              "          -0.2640053 , -0.24876674, -0.12606046, -0.11520193,\n",
              "          -0.00479214,  0.33488137,  0.00181019, -0.02186289,\n",
              "          -0.39071393, -0.05123908, -0.00839314, -0.17485967,\n",
              "           0.07309696,  0.02401377,  0.13082789, -0.14463763,\n",
              "           0.21645017, -0.30848116,  0.0434311 , -0.24128331]],\n",
              "\n",
              "        [[ 0.04555871,  0.22876395, -0.05711373,  0.16146001,\n",
              "          -0.1597928 ,  0.08475597,  0.04357956,  0.05851888,\n",
              "          -0.11831462,  0.14131299, -0.04750562,  0.20943931,\n",
              "           0.04685535, -0.03768194, -0.08144109, -0.25046086,\n",
              "          -0.13279654,  0.04862763, -0.1196267 , -0.18425679,\n",
              "           0.18779899,  0.01376909,  0.10594839, -0.37609145]],\n",
              "\n",
              "        [[-0.30997074,  0.1005861 , -0.03061095, -0.16322018,\n",
              "          -0.13106461, -0.02816467,  0.12937355,  0.05162908,\n",
              "          -0.20767526, -0.12178363, -0.0237143 ,  0.1358793 ,\n",
              "           0.02078321,  0.06804087, -0.13887905,  0.00478076,\n",
              "           0.0832848 , -0.09463515, -0.04663558,  0.06901617,\n",
              "           0.32579294,  0.3151291 , -0.19358613, -0.24036156]]]],\n",
              "      dtype=float32)"
            ]
          },
          "metadata": {},
          "execution_count": 11
        }
      ],
      "source": [
        "layers[0].get_weights()[0]"
      ]
    },
    {
      "cell_type": "code",
      "execution_count": 12,
      "metadata": {
        "id": "rQLei4FThuiw",
        "colab": {
          "base_uri": "https://localhost:8080/"
        },
        "outputId": "36ee5279-288a-43ab-a516-7d21c3b168e1"
      },
      "outputs": [
        {
          "output_type": "stream",
          "name": "stdout",
          "text": [
            "Con2D-1 : (3, 3, 1, 24) (24,)\n",
            "trainable parameters : 240\n",
            "Con2D-2 : (3, 3, 24, 36) (36,)\n",
            "trainable parameters : 7812\n",
            "Dense-1 : (900, 128) (128,)\n",
            "trainable parameters : 115328\n",
            "Dense-2 : (128, 10) (10,)\n",
            "trainable parameters : 1290\n"
          ]
        }
      ],
      "source": [
        "#weight and bias\n",
        "print('Con2D-1 : {} {}'.format(layers[0].get_weights()[0].shape,\\\n",
        "                               layers[0].get_weights()[1].shape))\n",
        "print('trainable parameters : {}'.format(np.prod(layers[0].get_weights()[0].shape)\\\n",
        "                                         +np.sum(layers[0].get_weights()[1].shape)))\n",
        "print('Con2D-2 : {} {}'.format(layers[2].get_weights()[0].shape,\\\n",
        "                               layers[2].get_weights()[1].shape))\n",
        "print('trainable parameters : {}'.format(np.prod(layers[2].get_weights()[0].shape)\\\n",
        "                                         +np.sum(layers[2].get_weights()[1].shape)))\n",
        "print('Dense-1 : {} {}'.format(layers[5].get_weights()[0].shape,\\\n",
        "                               layers[5].get_weights()[1].shape))\n",
        "print('trainable parameters : {}'.format(np.prod(layers[5].get_weights()[0].shape)\\\n",
        "                                         +np.sum(layers[5].get_weights()[1].shape)))\n",
        "print('Dense-2 : {} {}'.format(layers[6].get_weights()[0].shape,\\\n",
        "                               model.layers[6].get_weights()[1].shape))\n",
        "print('trainable parameters : {}'.format(np.prod(layers[6].get_weights()[0].shape)\\\n",
        "                                         +np.sum(layers[6].get_weights()[1].shape)))"
      ]
    },
    {
      "cell_type": "code",
      "execution_count": 13,
      "metadata": {
        "id": "C1hg4Pu8hukw",
        "colab": {
          "base_uri": "https://localhost:8080/"
        },
        "outputId": "0cdc665d-398f-4d67-f4c5-c5b45615166c"
      },
      "outputs": [
        {
          "output_type": "stream",
          "name": "stdout",
          "text": [
            "Conv2D output shape:\t (1, 26, 26, 24)\n",
            "MaxPooling2D output shape:\t (1, 13, 13, 24)\n",
            "Conv2D output shape:\t (1, 11, 11, 36)\n",
            "MaxPooling2D output shape:\t (1, 5, 5, 36)\n",
            "Flatten output shape:\t (1, 900)\n",
            "Dense output shape:\t (1, 128)\n",
            "Dense output shape:\t (1, 10)\n"
          ]
        }
      ],
      "source": [
        "x = tf.random.uniform(shape=(1,28,28,1))\n",
        "for layer in model.layers:\n",
        "    x=layer(x)\n",
        "    print(layer.__class__.__name__, 'output shape:\\t',x.shape)"
      ]
    }
  ],
  "metadata": {
    "accelerator": "GPU",
    "colab": {
      "provenance": []
    },
    "kernelspec": {
      "display_name": "Python 3",
      "name": "python3"
    },
    "language_info": {
      "name": "python"
    }
  },
  "nbformat": 4,
  "nbformat_minor": 0
}