{
 "cells": [
  {
   "cell_type": "code",
   "execution_count": 4,
   "id": "d5b851ef",
   "metadata": {},
   "outputs": [],
   "source": [
    "import pandas as pd\n",
    "import random\n",
    "import os\n",
    "import numpy as np\n",
    "\n",
    "from sklearn.preprocessing import Normalizer\n",
    "from sklearn.preprocessing import LabelEncoder\n",
    "from sklearn.ensemble import RandomForestClassifier"
   ]
  },
  {
   "cell_type": "code",
   "execution_count": 5,
   "id": "61663311",
   "metadata": {},
   "outputs": [],
   "source": [
    "def seed_everything(seed):\n",
    "    random.seed(seed)\n",
    "    os.environ['PYHHONHASHSEED']=str(seed)\n",
    "    np.random.seed(seed)\n",
    "seed_everything(37) # seed 고정"
   ]
  },
  {
   "cell_type": "code",
   "execution_count": 6,
   "id": "2dcbd1bf",
   "metadata": {},
   "outputs": [],
   "source": [
    "train_df = pd.read_csv('C:/Users/default.DESKTOP-I1K7OTQ/Desktop/LG_Aimers/train.csv')\n",
    "test_df = pd.read_csv('C:/Users/default.DESKTOP-I1K7OTQ/Desktop/LG_Aimers/test.csv')"
   ]
  },
  {
   "cell_type": "code",
   "execution_count": 7,
   "id": "fdcdbb71",
   "metadata": {},
   "outputs": [],
   "source": [
    "train_x = train_df.drop(columns=['PRODUCT_ID', 'TIMESTAMP', 'Y_Class','Y_Quality', 'LINE', 'PRODUCT_CODE'])\n",
    "train_y = train_df['Y_Class']\n",
    "\n",
    "test_x = test_df.drop(columns=['PRODUCT_ID', 'TIMESTAMP','LINE', 'PRODUCT_CODE'])"
   ]
  },
  {
   "cell_type": "code",
   "execution_count": 8,
   "id": "5967c57a",
   "metadata": {},
   "outputs": [
    {
     "name": "stdout",
     "output_type": "stream",
     "text": [
      "      X_1   X_2  X_3   X_4   X_5  X_6   X_7   X_8   X_9  X_10  ...  X_2866  \\\n",
      "0     NaN   NaN  NaN   NaN   NaN  NaN   NaN   NaN   NaN   NaN  ...   39.34   \n",
      "1     NaN   NaN  NaN   NaN   NaN  NaN   NaN   NaN   NaN   NaN  ...   38.89   \n",
      "2     NaN   NaN  NaN   NaN   NaN  NaN   NaN   NaN   NaN   NaN  ...   39.19   \n",
      "3     NaN   NaN  NaN   NaN   NaN  NaN   NaN   NaN   NaN   NaN  ...   37.74   \n",
      "4     NaN   NaN  NaN   NaN   NaN  NaN   NaN   NaN   NaN   NaN  ...   38.70   \n",
      "..    ...   ...  ...   ...   ...  ...   ...   ...   ...   ...  ...     ...   \n",
      "593   2.0  95.0  0.0  45.0  10.0  0.0  50.0  10.0  52.0   2.0  ...     NaN   \n",
      "594   NaN   NaN  NaN   NaN   NaN  NaN   NaN   NaN   NaN   NaN  ...   49.47   \n",
      "595   NaN   NaN  NaN   NaN   NaN  NaN   NaN   NaN   NaN   NaN  ...     NaN   \n",
      "596  40.0  94.0  0.0  45.0  11.0  0.0  45.0  10.0  31.0   2.0  ...     NaN   \n",
      "597  21.0  87.0  0.0  45.0  10.0  0.0  61.0  10.0  52.0   2.0  ...     NaN   \n",
      "\n",
      "     X_2867  X_2868  X_2869  X_2870  X_2871  X_2872  X_2873  X_2874  X_2875  \n",
      "0     40.89   32.56   34.09   77.77     NaN     NaN     NaN     NaN     NaN  \n",
      "1     42.82   43.92   35.34   72.55     NaN     NaN     NaN     NaN     NaN  \n",
      "2     36.65   42.47   36.53   78.35     NaN     NaN     NaN     NaN     NaN  \n",
      "3     39.17   52.17   30.58   71.78     NaN     NaN     NaN     NaN     NaN  \n",
      "4     41.89   46.93   33.09   76.97     NaN     NaN     NaN     NaN     NaN  \n",
      "..      ...     ...     ...     ...     ...     ...     ...     ...     ...  \n",
      "593     NaN     NaN     NaN     NaN     NaN     NaN     NaN     NaN     NaN  \n",
      "594   53.07   50.89   55.10   66.49     1.0     NaN     NaN     NaN     NaN  \n",
      "595     NaN     NaN     NaN     NaN     1.0     NaN     NaN     NaN     NaN  \n",
      "596     NaN     NaN     NaN     NaN     NaN     NaN     NaN     NaN     NaN  \n",
      "597     NaN     NaN     NaN     NaN     NaN     NaN     NaN     NaN     NaN  \n",
      "\n",
      "[598 rows x 2875 columns]\n"
     ]
    }
   ],
   "source": [
    "print(train_x)"
   ]
  },
  {
   "cell_type": "code",
   "execution_count": 9,
   "id": "c453c1c9",
   "metadata": {},
   "outputs": [],
   "source": [
    "#train_x_split= train_x.dropna(axis=0, thresh = 55) #모두 결측치인값과 200개 이상 결측치인 열 제거\n",
    "#test_x_split = test_x.dropna(axis=0, how = 'all', thresh = 200)"
   ]
  },
  {
   "cell_type": "code",
   "execution_count": 10,
   "id": "f6acd10e",
   "metadata": {},
   "outputs": [],
   "source": [
    "#print(train_x_split)"
   ]
  },
  {
   "cell_type": "code",
   "execution_count": 11,
   "id": "34725a98",
   "metadata": {},
   "outputs": [],
   "source": [
    "#print(train_x_split.shape)\n",
    "#print(test_x_split.shape)"
   ]
  },
  {
   "cell_type": "code",
   "execution_count": 12,
   "id": "d40010af",
   "metadata": {},
   "outputs": [],
   "source": [
    "train_x = train_x.fillna(train_x.mean()) #결측값 0으로\n",
    "test_x = test_x.fillna(test_x.mean()) #결측값 0으로"
   ]
  },
  {
   "cell_type": "code",
   "execution_count": 13,
   "id": "7cae7fe9",
   "metadata": {},
   "outputs": [],
   "source": [
    "train_x = train_x.fillna(0) #결측값 0으로\n",
    "test_x = test_x.fillna(0) #결측값 0으로"
   ]
  },
  {
   "cell_type": "code",
   "execution_count": 14,
   "id": "41274c6f",
   "metadata": {},
   "outputs": [],
   "source": [
    "#nm = Normalizer()\n",
    "#nm.fit(train_x)\n",
    "#train_scaled = nm.transform(train_x)\n",
    "#test_scaled = nm.transform(test_x)"
   ]
  },
  {
   "cell_type": "code",
   "execution_count": 15,
   "id": "906db94d",
   "metadata": {},
   "outputs": [],
   "source": [
    "#데이터 라벨 인코딩과정\n",
    "#qual_col = ['LINE', 'PRODUCT_CODE']\n",
    "\n",
    "#for i in qual_col:\n",
    "    #le = LabelEncoder()\n",
    "    #le = le.fit(train_x[i])\n",
    "    #train_x[i] = le.transform(train_x[i])\n",
    "    \n",
    "    #for label in np.unique(test_x[i]):\n",
    "        #if label not in le.classes_:\n",
    "            #le.classes_ = np.append(le.classes_, label)\n",
    "    #test_x[i] = le.transform(test_x[i])"
   ]
  },
  {
   "cell_type": "code",
   "execution_count": 16,
   "id": "cac44e7c",
   "metadata": {},
   "outputs": [
    {
     "name": "stdout",
     "output_type": "stream",
     "text": [
      "           X_1        X_2  X_3   X_4       X_5  X_6        X_7        X_8  \\\n",
      "0     2.409742  95.123209  0.0  45.0  10.39255  0.0  48.802292  10.048711   \n",
      "1     2.409742  95.123209  0.0  45.0  10.39255  0.0  48.802292  10.048711   \n",
      "2     2.409742  95.123209  0.0  45.0  10.39255  0.0  48.802292  10.048711   \n",
      "3     2.409742  95.123209  0.0  45.0  10.39255  0.0  48.802292  10.048711   \n",
      "4     2.409742  95.123209  0.0  45.0  10.39255  0.0  48.802292  10.048711   \n",
      "..         ...        ...  ...   ...       ...  ...        ...        ...   \n",
      "593   2.000000  95.000000  0.0  45.0  10.00000  0.0  50.000000  10.000000   \n",
      "594   2.409742  95.123209  0.0  45.0  10.39255  0.0  48.802292  10.048711   \n",
      "595   2.409742  95.123209  0.0  45.0  10.39255  0.0  48.802292  10.048711   \n",
      "596  40.000000  94.000000  0.0  45.0  11.00000  0.0  45.000000  10.000000   \n",
      "597  21.000000  87.000000  0.0  45.0  10.00000  0.0  61.000000  10.000000   \n",
      "\n",
      "           X_9  X_10  ...   X_2866   X_2867   X_2868   X_2869   X_2870  \\\n",
      "0    41.469914   2.0  ...  39.3400  40.8900  32.5600  34.0900  77.7700   \n",
      "1    41.469914   2.0  ...  38.8900  42.8200  43.9200  35.3400  72.5500   \n",
      "2    41.469914   2.0  ...  39.1900  36.6500  42.4700  36.5300  78.3500   \n",
      "3    41.469914   2.0  ...  37.7400  39.1700  52.1700  30.5800  71.7800   \n",
      "4    41.469914   2.0  ...  38.7000  41.8900  46.9300  33.0900  76.9700   \n",
      "..         ...   ...  ...      ...      ...      ...      ...      ...   \n",
      "593  52.000000   2.0  ...  50.8073  53.6077  49.6062  51.6598  66.6497   \n",
      "594  41.469914   2.0  ...  49.4700  53.0700  50.8900  55.1000  66.4900   \n",
      "595  41.469914   2.0  ...  50.8073  53.6077  49.6062  51.6598  66.6497   \n",
      "596  31.000000   2.0  ...  50.8073  53.6077  49.6062  51.6598  66.6497   \n",
      "597  52.000000   2.0  ...  50.8073  53.6077  49.6062  51.6598  66.6497   \n",
      "\n",
      "     X_2871  X_2872  X_2873  X_2874  X_2875  \n",
      "0       1.0     0.0     0.0     0.0     0.0  \n",
      "1       1.0     0.0     0.0     0.0     0.0  \n",
      "2       1.0     0.0     0.0     0.0     0.0  \n",
      "3       1.0     0.0     0.0     0.0     0.0  \n",
      "4       1.0     0.0     0.0     0.0     0.0  \n",
      "..      ...     ...     ...     ...     ...  \n",
      "593     1.0     0.0     0.0     0.0     0.0  \n",
      "594     1.0     0.0     0.0     0.0     0.0  \n",
      "595     1.0     0.0     0.0     0.0     0.0  \n",
      "596     1.0     0.0     0.0     0.0     0.0  \n",
      "597     1.0     0.0     0.0     0.0     0.0  \n",
      "\n",
      "[598 rows x 2875 columns]\n"
     ]
    }
   ],
   "source": [
    "print(train_x)"
   ]
  },
  {
   "cell_type": "code",
   "execution_count": 17,
   "id": "68613314",
   "metadata": {},
   "outputs": [
    {
     "name": "stdout",
     "output_type": "stream",
     "text": [
      "          X_1       X_2  X_3   X_4        X_5  X_6        X_7        X_8  \\\n",
      "0    2.000000  94.00000  0.0  45.0  10.000000  0.0  51.000000  10.000000   \n",
      "1    2.000000  93.00000  0.0  45.0  11.000000  0.0  45.000000  10.000000   \n",
      "2    2.000000  95.00000  0.0  45.0  11.000000  0.0  45.000000  10.000000   \n",
      "3    4.337449  94.44856  0.0  45.0  10.271605  0.0  48.485597  10.012346   \n",
      "4    4.337449  94.44856  0.0  45.0  10.271605  0.0  48.485597  10.012346   \n",
      "..        ...       ...  ...   ...        ...  ...        ...        ...   \n",
      "305  2.000000  91.00000  0.0  45.0  10.000000  0.0  51.000000  10.000000   \n",
      "306  2.000000  96.00000  0.0  45.0  11.000000  0.0  45.000000  10.000000   \n",
      "307  2.000000  91.00000  0.0  45.0  10.000000  0.0  50.000000  10.000000   \n",
      "308  2.000000  95.00000  0.0  45.0  10.000000  0.0  51.000000  10.000000   \n",
      "309  2.000000  87.00000  0.0  45.0  10.000000  0.0  51.000000  10.000000   \n",
      "\n",
      "           X_9  X_10  ...     X_2866     X_2867     X_2868     X_2869  \\\n",
      "0    52.000000   2.0  ...  52.066471  53.014706  49.994412  54.202353   \n",
      "1    31.000000   2.0  ...  52.066471  53.014706  49.994412  54.202353   \n",
      "2    31.000000   2.0  ...  52.066471  53.014706  49.994412  54.202353   \n",
      "3    42.407407   2.0  ...  52.066471  53.014706  49.994412  54.202353   \n",
      "4    42.407407   2.0  ...  52.066471  53.014706  49.994412  54.202353   \n",
      "..         ...   ...  ...        ...        ...        ...        ...   \n",
      "305  52.000000   2.0  ...  52.066471  53.014706  49.994412  54.202353   \n",
      "306  31.000000   2.0  ...  52.066471  53.014706  49.994412  54.202353   \n",
      "307  52.000000   2.0  ...  52.066471  53.014706  49.994412  54.202353   \n",
      "308  52.000000   2.0  ...  52.066471  53.014706  49.994412  54.202353   \n",
      "309  52.000000   2.0  ...  52.066471  53.014706  49.994412  54.202353   \n",
      "\n",
      "        X_2870    X_2871      X_2872      X_2873  X_2874      X_2875  \n",
      "0    63.806176  0.974359  247.988889  251.888889   243.3  228.844444  \n",
      "1    63.806176  0.974359  247.988889  251.888889   243.3  228.844444  \n",
      "2    63.806176  0.974359  247.988889  251.888889   243.3  228.844444  \n",
      "3    63.806176  0.974359  247.988889  251.888889   243.3  228.844444  \n",
      "4    63.806176  0.974359  247.988889  251.888889   243.3  228.844444  \n",
      "..         ...       ...         ...         ...     ...         ...  \n",
      "305  63.806176  0.974359  247.988889  251.888889   243.3  228.844444  \n",
      "306  63.806176  0.974359  247.988889  251.888889   243.3  228.844444  \n",
      "307  63.806176  0.974359  247.988889  251.888889   243.3  228.844444  \n",
      "308  63.806176  0.974359  247.988889  251.888889   243.3  228.844444  \n",
      "309  63.806176  0.974359  247.988889  251.888889   243.3  228.844444  \n",
      "\n",
      "[310 rows x 2875 columns]\n"
     ]
    }
   ],
   "source": [
    "print(test_x)"
   ]
  },
  {
   "cell_type": "code",
   "execution_count": 18,
   "id": "2eb8996a",
   "metadata": {},
   "outputs": [
    {
     "name": "stdout",
     "output_type": "stream",
     "text": [
      "0.7692307692307693\n"
     ]
    }
   ],
   "source": [
    "RF = RandomForestClassifier(oob_score=True, random_state=37).fit(train_x, train_y)\n",
    "print(RF.oob_score_)"
   ]
  },
  {
   "cell_type": "code",
   "execution_count": 19,
   "id": "83bfa388",
   "metadata": {},
   "outputs": [
    {
     "name": "stdout",
     "output_type": "stream",
     "text": [
      "[1 1 1 1 1 1 1 0 1 1 1 1 1 0 0 1 1 1 1 1 1 1 1 1 1 1 1 1 1 1 1 1 1 1 1 0 2\n",
      " 0 2 0 1 1 1 1 1 1 1 1 1 0 1 1 0 0 0 0 1 1 0 1 1 1 2 2 0 0 0 1 1 1 1 0 1 1\n",
      " 1 1 1 1 2 1 1 1 1 1 1 1 0 1 0 0 1 1 1 1 1 1 1 1 1 1 1 1 1 1 1 1 0 1 1 2 1\n",
      " 1 1 1 1 1 1 1 1 2 1 1 1 1 1 1 1 1 1 1 2 2 1 1 1 1 1 0 1 1 1 0 0 1 1 1 1 1\n",
      " 1 1 0 1 1 1 1 1 1 1 1 1 1 1 1 2 1 1 1 1 1 1 1 1 1 1 1 1 1 1 1 1 1 1 1 1 1\n",
      " 1 1 1 1 1 1 1 1 1 1 1 1 1 1 1 1 1 1 1 1 1 1 1 1 1 1 1 1 1 1 1 1 1 1 1 1 1\n",
      " 1 1 1 1 1 1 1 1 1 1 1 1 1 1 1 1 1 1 1 1 1 1 1 1 1 1 2 2 2 1 1 2 1 2 1 1 1\n",
      " 1 1 1 1 1 1 1 1 1 1 1 1 1 1 1 1 1 1 1 1 1 1 1 2 2 2 2 2 1 1 1 1 1 1 2 1 1\n",
      " 1 1 1 1 1 1 1 1 1 1 1 1 1 1]\n"
     ]
    }
   ],
   "source": [
    "preds = RF.predict(test_x)\n",
    "print(preds)"
   ]
  },
  {
   "cell_type": "code",
   "execution_count": 20,
   "id": "a40efacf",
   "metadata": {},
   "outputs": [],
   "source": [
    "submit = pd.read_csv('C:/Users/default.DESKTOP-I1K7OTQ/Desktop/LG_Aimers/sample_submission.csv')"
   ]
  },
  {
   "cell_type": "code",
   "execution_count": 21,
   "id": "b70f64c8",
   "metadata": {},
   "outputs": [],
   "source": [
    "submit['Y_Class']=preds"
   ]
  },
  {
   "cell_type": "code",
   "execution_count": 22,
   "id": "6e4745c7",
   "metadata": {},
   "outputs": [],
   "source": [
    "submit.to_csv('C:/Users/default.DESKTOP-I1K7OTQ/Desktop/LG_Aimers/baseline_submission.csv', index=False)"
   ]
  },
  {
   "cell_type": "code",
   "execution_count": null,
   "id": "b4897484",
   "metadata": {},
   "outputs": [],
   "source": []
  }
 ],
 "metadata": {
  "kernelspec": {
   "display_name": "Python 3 (ipykernel)",
   "language": "python",
   "name": "python3"
  },
  "language_info": {
   "codemirror_mode": {
    "name": "ipython",
    "version": 3
   },
   "file_extension": ".py",
   "mimetype": "text/x-python",
   "name": "python",
   "nbconvert_exporter": "python",
   "pygments_lexer": "ipython3",
   "version": "3.9.13"
  }
 },
 "nbformat": 4,
 "nbformat_minor": 5
}
