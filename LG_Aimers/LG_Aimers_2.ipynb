{
 "cells": [
  {
   "cell_type": "code",
   "execution_count": 21,
   "id": "e1fb46ed",
   "metadata": {},
   "outputs": [],
   "source": [
    "import pandas as pd\n",
    "import random\n",
    "import os\n",
    "import numpy as np\n",
    "from sklearn.preprocessing import StandardScaler\n",
    "from sklearn.preprocessing import Normalizer\n",
    "\n",
    "import tensorflow as tf\n",
    "from tensorflow.keras.datasets import mnist\n",
    "from tensorflow.keras.models import Sequential\n",
    "from tensorflow.keras.layers import Flatten, Dense, BatchNormalization, Dropout\n",
    "from tensorflow.keras.losses import SparseCategoricalCrossentropy\n",
    "from tensorflow.keras.optimizers import Adam\n",
    "\n",
    "from keras.layers import LeakyReLU\n",
    "from sklearn.model_selection import train_test_split\n",
    "from sklearn.preprocessing import LabelEncoder\n",
    "from sklearn.ensemble import RandomForestClassifier"
   ]
  },
  {
   "cell_type": "code",
   "execution_count": 22,
   "id": "ad01370f",
   "metadata": {},
   "outputs": [],
   "source": [
    "def seed_everything(seed):\n",
    "    random.seed(seed)\n",
    "    os.environ['PYHHONHASHSEED']=str(seed)\n",
    "    np.random.seed(seed)\n",
    "seed_everything(37) # seed 고정"
   ]
  },
  {
   "cell_type": "code",
   "execution_count": 23,
   "id": "5bba1335",
   "metadata": {},
   "outputs": [],
   "source": [
    "train_df = pd.read_csv('C:/Users/default.DESKTOP-I1K7OTQ/Desktop/LG_Aimers/train.csv')\n",
    "test_df = pd.read_csv('C:/Users/default.DESKTOP-I1K7OTQ/Desktop/LG_Aimers/test.csv')"
   ]
  },
  {
   "cell_type": "code",
   "execution_count": 24,
   "id": "6bf9bf23",
   "metadata": {},
   "outputs": [],
   "source": [
    "train_x = train_df.drop(columns=['PRODUCT_ID', 'TIMESTAMP', 'Y_Class','Y_Quality', 'LINE', 'PRODUCT_CODE'])\n",
    "train_y = train_df['Y_Class']\n",
    "\n",
    "test_x = test_df.drop(columns=['PRODUCT_ID', 'TIMESTAMP','LINE', 'PRODUCT_CODE'])"
   ]
  },
  {
   "cell_type": "code",
   "execution_count": 25,
   "id": "87d49c10",
   "metadata": {},
   "outputs": [
    {
     "name": "stdout",
     "output_type": "stream",
     "text": [
      "      X_1   X_2  X_3   X_4   X_5  X_6   X_7   X_8   X_9  X_10  ...  X_2866  \\\n",
      "0     NaN   NaN  NaN   NaN   NaN  NaN   NaN   NaN   NaN   NaN  ...   39.34   \n",
      "1     NaN   NaN  NaN   NaN   NaN  NaN   NaN   NaN   NaN   NaN  ...   38.89   \n",
      "2     NaN   NaN  NaN   NaN   NaN  NaN   NaN   NaN   NaN   NaN  ...   39.19   \n",
      "3     NaN   NaN  NaN   NaN   NaN  NaN   NaN   NaN   NaN   NaN  ...   37.74   \n",
      "4     NaN   NaN  NaN   NaN   NaN  NaN   NaN   NaN   NaN   NaN  ...   38.70   \n",
      "..    ...   ...  ...   ...   ...  ...   ...   ...   ...   ...  ...     ...   \n",
      "593   2.0  95.0  0.0  45.0  10.0  0.0  50.0  10.0  52.0   2.0  ...     NaN   \n",
      "594   NaN   NaN  NaN   NaN   NaN  NaN   NaN   NaN   NaN   NaN  ...   49.47   \n",
      "595   NaN   NaN  NaN   NaN   NaN  NaN   NaN   NaN   NaN   NaN  ...     NaN   \n",
      "596  40.0  94.0  0.0  45.0  11.0  0.0  45.0  10.0  31.0   2.0  ...     NaN   \n",
      "597  21.0  87.0  0.0  45.0  10.0  0.0  61.0  10.0  52.0   2.0  ...     NaN   \n",
      "\n",
      "     X_2867  X_2868  X_2869  X_2870  X_2871  X_2872  X_2873  X_2874  X_2875  \n",
      "0     40.89   32.56   34.09   77.77     NaN     NaN     NaN     NaN     NaN  \n",
      "1     42.82   43.92   35.34   72.55     NaN     NaN     NaN     NaN     NaN  \n",
      "2     36.65   42.47   36.53   78.35     NaN     NaN     NaN     NaN     NaN  \n",
      "3     39.17   52.17   30.58   71.78     NaN     NaN     NaN     NaN     NaN  \n",
      "4     41.89   46.93   33.09   76.97     NaN     NaN     NaN     NaN     NaN  \n",
      "..      ...     ...     ...     ...     ...     ...     ...     ...     ...  \n",
      "593     NaN     NaN     NaN     NaN     NaN     NaN     NaN     NaN     NaN  \n",
      "594   53.07   50.89   55.10   66.49     1.0     NaN     NaN     NaN     NaN  \n",
      "595     NaN     NaN     NaN     NaN     1.0     NaN     NaN     NaN     NaN  \n",
      "596     NaN     NaN     NaN     NaN     NaN     NaN     NaN     NaN     NaN  \n",
      "597     NaN     NaN     NaN     NaN     NaN     NaN     NaN     NaN     NaN  \n",
      "\n",
      "[598 rows x 2875 columns]\n"
     ]
    }
   ],
   "source": [
    "print(train_x)"
   ]
  },
  {
   "cell_type": "code",
   "execution_count": 26,
   "id": "6e0dcfbd",
   "metadata": {},
   "outputs": [
    {
     "name": "stdout",
     "output_type": "stream",
     "text": [
      "(598, 2875)\n",
      "(310, 2875)\n"
     ]
    }
   ],
   "source": [
    "print(train_x.shape)\n",
    "print(test_x.shape)"
   ]
  },
  {
   "cell_type": "code",
   "execution_count": 27,
   "id": "a293272c",
   "metadata": {},
   "outputs": [],
   "source": [
    "#train_x = train_x.fillna(train_x.mean()) #결측값 평균으로\n",
    "#test_x = test_x.fillna(test_x.mean()) #결측값 평균으로"
   ]
  },
  {
   "cell_type": "code",
   "execution_count": 28,
   "id": "f8d19bf8",
   "metadata": {},
   "outputs": [],
   "source": [
    "train_x = train_x.fillna(0) #결측값 0으로\n",
    "test_x = test_x.fillna(0) #결측값 0으로"
   ]
  },
  {
   "cell_type": "code",
   "execution_count": 29,
   "id": "3681271f",
   "metadata": {},
   "outputs": [],
   "source": [
    "nm = Normalizer()\n",
    "nm.fit(train_x)\n",
    "train_scaled = nm.transform(train_x)\n",
    "test_scaled = nm.transform(test_x)"
   ]
  },
  {
   "cell_type": "code",
   "execution_count": 30,
   "id": "92188ec7",
   "metadata": {},
   "outputs": [],
   "source": [
    "#ss = StandardScaler()\n",
    "#ss.fit(train_x)\n",
    "#train_scaled = ss.transform(train_x)\n",
    "#test_scaled = ss.transform(test_x)"
   ]
  },
  {
   "cell_type": "code",
   "execution_count": 31,
   "id": "cd7cbc3a",
   "metadata": {},
   "outputs": [],
   "source": [
    "#train_scaled[0, 2869]"
   ]
  },
  {
   "cell_type": "code",
   "execution_count": 32,
   "id": "07534502",
   "metadata": {},
   "outputs": [],
   "source": [
    "#print(test_scaled)"
   ]
  },
  {
   "cell_type": "code",
   "execution_count": 33,
   "id": "673fe009",
   "metadata": {},
   "outputs": [],
   "source": [
    "model = Sequential()\n",
    "#model.add(Flatten())\n",
    "model.add(Dense(2000, LeakyReLU(alpha=0.05)))\n",
    "model.add(BatchNormalization())\n",
    "model.add(Dropout(0.2))\n",
    "#model.add(Dense(1000, activation='relu'))\n",
    "model.add(Dense(1000, LeakyReLU(alpha=0.05)))\n",
    "model.add(BatchNormalization())\n",
    "model.add(Dropout(0.2))\n",
    "model.add(Dense(500, LeakyReLU(alpha=0.05)))\n",
    "model.add(BatchNormalization())\n",
    "#model.add(Dropout(0.3))\n",
    "#model.add(Dense(250, activation='relu'))\n",
    "model.add(Dense(250, LeakyReLU(alpha=0.05)))\n",
    "model.add(BatchNormalization())\n",
    "#model.add(Dropout(0.2))\n",
    "model.add(Dense(100, LeakyReLU(alpha=0.05)))\n",
    "model.add(BatchNormalization())\n",
    "#model.add(Dropout(0.3))\n",
    "model.add(Dense(50, LeakyReLU(alpha=0.05)))\n",
    "model.add(BatchNormalization())\n",
    "model.add(Dense(25, LeakyReLU(alpha=0.05)))\n",
    "model.add(BatchNormalization())\n",
    "#model.add(Dropout(0.3))\n",
    "model.add(Dense(3, activation='softmax'))"
   ]
  },
  {
   "cell_type": "code",
   "execution_count": 34,
   "id": "2b3708a9",
   "metadata": {},
   "outputs": [],
   "source": [
    "#model.summary()"
   ]
  },
  {
   "cell_type": "code",
   "execution_count": 35,
   "id": "c2c1e351",
   "metadata": {},
   "outputs": [],
   "source": [
    "model.compile(loss='sparse_categorical_crossentropy', optimizer='Adam', metrics=['accuracy'])"
   ]
  },
  {
   "cell_type": "code",
   "execution_count": 36,
   "id": "0538e055",
   "metadata": {},
   "outputs": [
    {
     "name": "stdout",
     "output_type": "stream",
     "text": [
      "Epoch 1/50\n",
      "150/150 - 2s - loss: 1.1788 - accuracy: 0.4682 - 2s/epoch - 16ms/step\n",
      "Epoch 2/50\n",
      "150/150 - 1s - loss: 0.9198 - accuracy: 0.6237 - 1s/epoch - 9ms/step\n",
      "Epoch 3/50\n",
      "150/150 - 1s - loss: 0.8790 - accuracy: 0.6572 - 1s/epoch - 9ms/step\n",
      "Epoch 4/50\n",
      "150/150 - 1s - loss: 0.8495 - accuracy: 0.6773 - 1s/epoch - 9ms/step\n",
      "Epoch 5/50\n",
      "150/150 - 1s - loss: 0.8553 - accuracy: 0.6739 - 1s/epoch - 10ms/step\n",
      "Epoch 6/50\n",
      "150/150 - 1s - loss: 0.8290 - accuracy: 0.6806 - 1s/epoch - 9ms/step\n",
      "Epoch 7/50\n",
      "150/150 - 1s - loss: 0.8133 - accuracy: 0.7007 - 1s/epoch - 9ms/step\n",
      "Epoch 8/50\n",
      "150/150 - 1s - loss: 0.8177 - accuracy: 0.6957 - 1s/epoch - 9ms/step\n",
      "Epoch 9/50\n",
      "150/150 - 1s - loss: 0.8210 - accuracy: 0.6823 - 1s/epoch - 9ms/step\n",
      "Epoch 10/50\n",
      "150/150 - 1s - loss: 0.8188 - accuracy: 0.6789 - 1s/epoch - 9ms/step\n",
      "Epoch 11/50\n",
      "150/150 - 1s - loss: 0.8133 - accuracy: 0.6890 - 1s/epoch - 9ms/step\n",
      "Epoch 12/50\n",
      "150/150 - 1s - loss: 0.7890 - accuracy: 0.6940 - 1s/epoch - 9ms/step\n",
      "Epoch 13/50\n",
      "150/150 - 1s - loss: 0.8103 - accuracy: 0.6923 - 1s/epoch - 9ms/step\n",
      "Epoch 14/50\n",
      "150/150 - 1s - loss: 0.8028 - accuracy: 0.6773 - 1s/epoch - 9ms/step\n",
      "Epoch 15/50\n",
      "150/150 - 1s - loss: 0.8194 - accuracy: 0.6806 - 1s/epoch - 9ms/step\n",
      "Epoch 16/50\n",
      "150/150 - 1s - loss: 0.8063 - accuracy: 0.6890 - 1s/epoch - 9ms/step\n",
      "Epoch 17/50\n",
      "150/150 - 1s - loss: 0.8248 - accuracy: 0.7007 - 1s/epoch - 9ms/step\n",
      "Epoch 18/50\n",
      "150/150 - 1s - loss: 0.8026 - accuracy: 0.7057 - 1s/epoch - 9ms/step\n",
      "Epoch 19/50\n",
      "150/150 - 1s - loss: 0.8069 - accuracy: 0.6940 - 1s/epoch - 9ms/step\n",
      "Epoch 20/50\n",
      "150/150 - 1s - loss: 0.7950 - accuracy: 0.7074 - 1s/epoch - 9ms/step\n",
      "Epoch 21/50\n",
      "150/150 - 1s - loss: 0.8338 - accuracy: 0.6957 - 1s/epoch - 9ms/step\n",
      "Epoch 22/50\n",
      "150/150 - 1s - loss: 0.8008 - accuracy: 0.6940 - 1s/epoch - 9ms/step\n",
      "Epoch 23/50\n",
      "150/150 - 1s - loss: 0.8005 - accuracy: 0.6923 - 1s/epoch - 9ms/step\n",
      "Epoch 24/50\n",
      "150/150 - 1s - loss: 0.8176 - accuracy: 0.6906 - 1s/epoch - 9ms/step\n",
      "Epoch 25/50\n",
      "150/150 - 1s - loss: 0.8130 - accuracy: 0.6823 - 1s/epoch - 9ms/step\n",
      "Epoch 26/50\n",
      "150/150 - 1s - loss: 0.8227 - accuracy: 0.6722 - 1s/epoch - 9ms/step\n",
      "Epoch 27/50\n",
      "150/150 - 1s - loss: 0.8023 - accuracy: 0.6856 - 1s/epoch - 9ms/step\n",
      "Epoch 28/50\n",
      "150/150 - 1s - loss: 0.8149 - accuracy: 0.6906 - 1s/epoch - 9ms/step\n",
      "Epoch 29/50\n",
      "150/150 - 1s - loss: 0.7898 - accuracy: 0.7074 - 1s/epoch - 9ms/step\n",
      "Epoch 30/50\n",
      "150/150 - 1s - loss: 0.8021 - accuracy: 0.6973 - 1s/epoch - 10ms/step\n",
      "Epoch 31/50\n",
      "150/150 - 1s - loss: 0.7845 - accuracy: 0.6873 - 1s/epoch - 10ms/step\n",
      "Epoch 32/50\n",
      "150/150 - 1s - loss: 0.7989 - accuracy: 0.6839 - 1s/epoch - 9ms/step\n",
      "Epoch 33/50\n",
      "150/150 - 1s - loss: 0.8225 - accuracy: 0.6789 - 1s/epoch - 10ms/step\n",
      "Epoch 34/50\n",
      "150/150 - 1s - loss: 0.8031 - accuracy: 0.6806 - 1s/epoch - 9ms/step\n",
      "Epoch 35/50\n",
      "150/150 - 1s - loss: 0.8028 - accuracy: 0.6739 - 1s/epoch - 9ms/step\n",
      "Epoch 36/50\n",
      "150/150 - 1s - loss: 0.7951 - accuracy: 0.6806 - 1s/epoch - 9ms/step\n",
      "Epoch 37/50\n",
      "150/150 - 1s - loss: 0.8152 - accuracy: 0.6806 - 1s/epoch - 10ms/step\n",
      "Epoch 38/50\n",
      "150/150 - 1s - loss: 0.8080 - accuracy: 0.6839 - 1s/epoch - 9ms/step\n",
      "Epoch 39/50\n",
      "150/150 - 1s - loss: 0.7965 - accuracy: 0.6906 - 1s/epoch - 9ms/step\n",
      "Epoch 40/50\n",
      "150/150 - 1s - loss: 0.8092 - accuracy: 0.6957 - 1s/epoch - 9ms/step\n",
      "Epoch 41/50\n",
      "150/150 - 1s - loss: 0.8135 - accuracy: 0.6890 - 1s/epoch - 10ms/step\n",
      "Epoch 42/50\n",
      "150/150 - 1s - loss: 0.8005 - accuracy: 0.6940 - 1s/epoch - 9ms/step\n",
      "Epoch 43/50\n",
      "150/150 - 1s - loss: 0.8014 - accuracy: 0.6823 - 1s/epoch - 9ms/step\n",
      "Epoch 44/50\n",
      "150/150 - 1s - loss: 0.7828 - accuracy: 0.6839 - 1s/epoch - 9ms/step\n",
      "Epoch 45/50\n",
      "150/150 - 1s - loss: 0.7965 - accuracy: 0.6957 - 1s/epoch - 9ms/step\n",
      "Epoch 46/50\n",
      "150/150 - 1s - loss: 0.7884 - accuracy: 0.7007 - 1s/epoch - 9ms/step\n",
      "Epoch 47/50\n",
      "150/150 - 1s - loss: 0.7827 - accuracy: 0.6957 - 1s/epoch - 9ms/step\n",
      "Epoch 48/50\n",
      "150/150 - 1s - loss: 0.8216 - accuracy: 0.6806 - 1s/epoch - 10ms/step\n",
      "Epoch 49/50\n",
      "150/150 - 1s - loss: 0.8031 - accuracy: 0.6940 - 1s/epoch - 9ms/step\n",
      "Epoch 50/50\n",
      "150/150 - 1s - loss: 0.8047 - accuracy: 0.6906 - 1s/epoch - 9ms/step\n"
     ]
    }
   ],
   "source": [
    "history = model.fit(train_x, train_y, batch_size = 4, epochs=50, verbose=2)"
   ]
  },
  {
   "cell_type": "code",
   "execution_count": 37,
   "id": "d6e3579e",
   "metadata": {
    "scrolled": true
   },
   "outputs": [
    {
     "name": "stdout",
     "output_type": "stream",
     "text": [
      "10/10 [==============================] - 0s 2ms/step\n",
      "[1 1 1 1 1 1 1 1 1 1 1 1 1 2 1 1 1 1 1 1 1 1 1 1 1 1 1 1 1 1 1 1 1 1 1 1 2\n",
      " 1 1 1 1 1 1 1 1 1 1 1 1 1 1 1 1 1 1 1 1 1 1 1 1 1 2 2 1 1 1 1 1 1 1 1 1 1\n",
      " 1 1 1 1 1 1 1 1 1 1 1 1 1 1 1 1 1 1 1 1 1 1 1 1 1 1 1 1 1 1 1 1 1 1 1 1 1\n",
      " 1 1 1 1 1 1 1 1 1 1 1 1 1 1 1 1 1 1 1 2 2 2 1 1 1 1 1 1 1 1 1 1 1 1 1 1 1\n",
      " 1 1 1 1 1 1 1 1 1 1 1 1 1 1 1 1 1 1 1 1 1 1 1 1 1 1 1 1 1 1 1 1 1 1 1 1 1\n",
      " 1 1 1 1 1 1 1 1 1 1 1 1 1 1 1 1 1 1 1 1 1 1 1 1 1 1 1 1 1 1 1 1 1 1 1 1 1\n",
      " 1 1 1 1 1 1 1 1 1 1 1 1 1 1 1 1 1 1 1 1 1 1 1 1 1 1 2 2 2 2 2 2 2 2 1 1 1\n",
      " 1 2 1 1 2 1 1 1 1 1 1 1 1 1 1 1 1 1 1 1 1 2 2 2 2 2 2 2 1 1 1 1 1 2 2 1 1\n",
      " 1 1 1 1 1 1 1 1 1 1 1 1 1 1]\n"
     ]
    }
   ],
   "source": [
    "preds = model.predict(test_x)\n",
    "preds_labels = np.argmax(preds, axis=1)\n",
    "print(preds_labels)"
   ]
  },
  {
   "cell_type": "code",
   "execution_count": 38,
   "id": "46a34fae",
   "metadata": {},
   "outputs": [],
   "source": [
    "submit = pd.read_csv('C:/Users/default.DESKTOP-I1K7OTQ/Desktop/LG_Aimers/sample_submission.csv')"
   ]
  },
  {
   "cell_type": "code",
   "execution_count": 39,
   "id": "f473c2d7",
   "metadata": {},
   "outputs": [],
   "source": [
    "submit['Y_Class']=preds_labels"
   ]
  },
  {
   "cell_type": "code",
   "execution_count": 40,
   "id": "6ac6dad0",
   "metadata": {},
   "outputs": [],
   "source": [
    "submit.to_csv('C:/Users/default.DESKTOP-I1K7OTQ/Desktop/LG_Aimers/baseline_submission.csv', index=False)"
   ]
  },
  {
   "cell_type": "code",
   "execution_count": null,
   "id": "6c7ee111",
   "metadata": {},
   "outputs": [],
   "source": []
  }
 ],
 "metadata": {
  "kernelspec": {
   "display_name": "Python 3 (ipykernel)",
   "language": "python",
   "name": "python3"
  },
  "language_info": {
   "codemirror_mode": {
    "name": "ipython",
    "version": 3
   },
   "file_extension": ".py",
   "mimetype": "text/x-python",
   "name": "python",
   "nbconvert_exporter": "python",
   "pygments_lexer": "ipython3",
   "version": "3.9.13"
  }
 },
 "nbformat": 4,
 "nbformat_minor": 5
}
