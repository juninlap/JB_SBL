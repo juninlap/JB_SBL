{
 "cells": [
  {
   "cell_type": "code",
   "execution_count": 1,
   "id": "0ece804a",
   "metadata": {},
   "outputs": [],
   "source": [
    "import pandas as pd\n",
    "import random\n",
    "import os\n",
    "import numpy as np\n",
    "\n",
    "from sklearn.preprocessing import LabelEncoder\n",
    "from sklearn.ensemble import RandomForestClassifier\n",
    "from sklearn.preprocessing import Normalizer\n",
    "from sklearn.linear_model import SGDClassifier\n",
    "from sklearn.ensemble import GradientBoostingClassifier"
   ]
  },
  {
   "cell_type": "code",
   "execution_count": 2,
   "id": "5bde356b",
   "metadata": {},
   "outputs": [],
   "source": [
    "def seed_everything(seed):\n",
    "    random.seed(seed)\n",
    "    os.environ['PYHHONHASHSEED']=str(seed)\n",
    "    np.random.seed(seed)\n",
    "seed_everything(37) # seed 고정"
   ]
  },
  {
   "cell_type": "code",
   "execution_count": 3,
   "id": "2ce3589b",
   "metadata": {},
   "outputs": [],
   "source": [
    "train_df = pd.read_csv('C:/Users/default.DESKTOP-I1K7OTQ/Desktop/LG_Aimers/train.csv')\n",
    "test_df = pd.read_csv('C:/Users/default.DESKTOP-I1K7OTQ/Desktop/LG_Aimers/test.csv')"
   ]
  },
  {
   "cell_type": "code",
   "execution_count": 4,
   "id": "a7763555",
   "metadata": {},
   "outputs": [],
   "source": [
    "train_x = train_df.drop(columns=['PRODUCT_ID', 'TIMESTAMP', 'Y_Class','Y_Quality', 'LINE', 'PRODUCT_CODE'])\n",
    "train_y = train_df['Y_Class']\n",
    "\n",
    "test_x = test_df.drop(columns=['PRODUCT_ID', 'TIMESTAMP','LINE', 'PRODUCT_CODE'])"
   ]
  },
  {
   "cell_type": "code",
   "execution_count": 5,
   "id": "5fce4f6f",
   "metadata": {},
   "outputs": [
    {
     "name": "stdout",
     "output_type": "stream",
     "text": [
      "      X_1   X_2  X_3   X_4   X_5  X_6   X_7   X_8   X_9  X_10  ...  X_2866  \\\n",
      "0     NaN   NaN  NaN   NaN   NaN  NaN   NaN   NaN   NaN   NaN  ...   39.34   \n",
      "1     NaN   NaN  NaN   NaN   NaN  NaN   NaN   NaN   NaN   NaN  ...   38.89   \n",
      "2     NaN   NaN  NaN   NaN   NaN  NaN   NaN   NaN   NaN   NaN  ...   39.19   \n",
      "3     NaN   NaN  NaN   NaN   NaN  NaN   NaN   NaN   NaN   NaN  ...   37.74   \n",
      "4     NaN   NaN  NaN   NaN   NaN  NaN   NaN   NaN   NaN   NaN  ...   38.70   \n",
      "..    ...   ...  ...   ...   ...  ...   ...   ...   ...   ...  ...     ...   \n",
      "593   2.0  95.0  0.0  45.0  10.0  0.0  50.0  10.0  52.0   2.0  ...     NaN   \n",
      "594   NaN   NaN  NaN   NaN   NaN  NaN   NaN   NaN   NaN   NaN  ...   49.47   \n",
      "595   NaN   NaN  NaN   NaN   NaN  NaN   NaN   NaN   NaN   NaN  ...     NaN   \n",
      "596  40.0  94.0  0.0  45.0  11.0  0.0  45.0  10.0  31.0   2.0  ...     NaN   \n",
      "597  21.0  87.0  0.0  45.0  10.0  0.0  61.0  10.0  52.0   2.0  ...     NaN   \n",
      "\n",
      "     X_2867  X_2868  X_2869  X_2870  X_2871  X_2872  X_2873  X_2874  X_2875  \n",
      "0     40.89   32.56   34.09   77.77     NaN     NaN     NaN     NaN     NaN  \n",
      "1     42.82   43.92   35.34   72.55     NaN     NaN     NaN     NaN     NaN  \n",
      "2     36.65   42.47   36.53   78.35     NaN     NaN     NaN     NaN     NaN  \n",
      "3     39.17   52.17   30.58   71.78     NaN     NaN     NaN     NaN     NaN  \n",
      "4     41.89   46.93   33.09   76.97     NaN     NaN     NaN     NaN     NaN  \n",
      "..      ...     ...     ...     ...     ...     ...     ...     ...     ...  \n",
      "593     NaN     NaN     NaN     NaN     NaN     NaN     NaN     NaN     NaN  \n",
      "594   53.07   50.89   55.10   66.49     1.0     NaN     NaN     NaN     NaN  \n",
      "595     NaN     NaN     NaN     NaN     1.0     NaN     NaN     NaN     NaN  \n",
      "596     NaN     NaN     NaN     NaN     NaN     NaN     NaN     NaN     NaN  \n",
      "597     NaN     NaN     NaN     NaN     NaN     NaN     NaN     NaN     NaN  \n",
      "\n",
      "[598 rows x 2875 columns]\n"
     ]
    }
   ],
   "source": [
    "print(train_x)"
   ]
  },
  {
   "cell_type": "code",
   "execution_count": 6,
   "id": "07029cfe",
   "metadata": {},
   "outputs": [],
   "source": [
    "#train_x = train_x.fillna(train_x.mean()) #결측값 0으로\n",
    "#test_x = test_x.fillna(test_x.mean()) #결측값 0으로"
   ]
  },
  {
   "cell_type": "code",
   "execution_count": 7,
   "id": "366c9aa4",
   "metadata": {},
   "outputs": [],
   "source": [
    "train_x = train_x.fillna(0) #결측값 0으로\n",
    "test_x = test_x.fillna(0) #결측값 0으로"
   ]
  },
  {
   "cell_type": "code",
   "execution_count": 8,
   "id": "0927e461",
   "metadata": {},
   "outputs": [],
   "source": [
    "nm = Normalizer()\n",
    "nm.fit(train_x)\n",
    "train_scaled = nm.transform(train_x)\n",
    "test_scaled = nm.transform(test_x)"
   ]
  },
  {
   "cell_type": "code",
   "execution_count": 9,
   "id": "b542f0b4",
   "metadata": {},
   "outputs": [
    {
     "name": "stdout",
     "output_type": "stream",
     "text": [
      "      X_1   X_2  X_3   X_4   X_5  X_6   X_7   X_8   X_9  X_10  ...  X_2866  \\\n",
      "0     0.0   0.0  0.0   0.0   0.0  0.0   0.0   0.0   0.0   0.0  ...   39.34   \n",
      "1     0.0   0.0  0.0   0.0   0.0  0.0   0.0   0.0   0.0   0.0  ...   38.89   \n",
      "2     0.0   0.0  0.0   0.0   0.0  0.0   0.0   0.0   0.0   0.0  ...   39.19   \n",
      "3     0.0   0.0  0.0   0.0   0.0  0.0   0.0   0.0   0.0   0.0  ...   37.74   \n",
      "4     0.0   0.0  0.0   0.0   0.0  0.0   0.0   0.0   0.0   0.0  ...   38.70   \n",
      "..    ...   ...  ...   ...   ...  ...   ...   ...   ...   ...  ...     ...   \n",
      "593   2.0  95.0  0.0  45.0  10.0  0.0  50.0  10.0  52.0   2.0  ...    0.00   \n",
      "594   0.0   0.0  0.0   0.0   0.0  0.0   0.0   0.0   0.0   0.0  ...   49.47   \n",
      "595   0.0   0.0  0.0   0.0   0.0  0.0   0.0   0.0   0.0   0.0  ...    0.00   \n",
      "596  40.0  94.0  0.0  45.0  11.0  0.0  45.0  10.0  31.0   2.0  ...    0.00   \n",
      "597  21.0  87.0  0.0  45.0  10.0  0.0  61.0  10.0  52.0   2.0  ...    0.00   \n",
      "\n",
      "     X_2867  X_2868  X_2869  X_2870  X_2871  X_2872  X_2873  X_2874  X_2875  \n",
      "0     40.89   32.56   34.09   77.77     0.0     0.0     0.0     0.0     0.0  \n",
      "1     42.82   43.92   35.34   72.55     0.0     0.0     0.0     0.0     0.0  \n",
      "2     36.65   42.47   36.53   78.35     0.0     0.0     0.0     0.0     0.0  \n",
      "3     39.17   52.17   30.58   71.78     0.0     0.0     0.0     0.0     0.0  \n",
      "4     41.89   46.93   33.09   76.97     0.0     0.0     0.0     0.0     0.0  \n",
      "..      ...     ...     ...     ...     ...     ...     ...     ...     ...  \n",
      "593    0.00    0.00    0.00    0.00     0.0     0.0     0.0     0.0     0.0  \n",
      "594   53.07   50.89   55.10   66.49     1.0     0.0     0.0     0.0     0.0  \n",
      "595    0.00    0.00    0.00    0.00     1.0     0.0     0.0     0.0     0.0  \n",
      "596    0.00    0.00    0.00    0.00     0.0     0.0     0.0     0.0     0.0  \n",
      "597    0.00    0.00    0.00    0.00     0.0     0.0     0.0     0.0     0.0  \n",
      "\n",
      "[598 rows x 2875 columns]\n"
     ]
    }
   ],
   "source": [
    "print(train_x)"
   ]
  },
  {
   "cell_type": "code",
   "execution_count": 19,
   "id": "7e743b8c",
   "metadata": {},
   "outputs": [
    {
     "data": {
      "text/plain": [
       "GradientBoostingClassifier(learning_rate=0.3, n_estimators=300, random_state=37)"
      ]
     },
     "execution_count": 19,
     "metadata": {},
     "output_type": "execute_result"
    }
   ],
   "source": [
    "gb = GradientBoostingClassifier(n_estimators=300, learning_rate=0.3, random_state=37)\n",
    "gb.fit(train_scaled, train_y)"
   ]
  },
  {
   "cell_type": "code",
   "execution_count": 20,
   "id": "21d828e8",
   "metadata": {},
   "outputs": [],
   "source": [
    "#sc = SGDClassifier(loss='log', max_iter=75, random_state=37)\n",
    "#sc.fit(train_scaled, train_y)"
   ]
  },
  {
   "cell_type": "code",
   "execution_count": 21,
   "id": "33995af6",
   "metadata": {},
   "outputs": [],
   "source": [
    "#RF = RandomForestClassifier(oob_score=True, random_state=37).fit(train_x, train_y)\n",
    "#print(RF.oob_score_)"
   ]
  },
  {
   "cell_type": "code",
   "execution_count": 22,
   "id": "4bd3254b",
   "metadata": {},
   "outputs": [
    {
     "name": "stdout",
     "output_type": "stream",
     "text": [
      "[1 1 1 1 1 1 1 0 0 1 1 1 1 0 0 1 1 1 1 1 1 1 1 1 1 1 1 1 1 1 1 1 1 1 1 0 0\n",
      " 1 1 1 1 0 0 1 1 1 1 1 1 1 1 1 0 0 0 1 1 1 1 1 1 0 0 0 0 0 0 1 1 1 1 1 1 1\n",
      " 1 1 1 1 1 1 1 1 1 1 1 1 1 1 1 1 1 1 1 1 1 1 1 1 1 1 1 1 1 1 1 1 1 1 1 1 1\n",
      " 1 1 1 1 1 1 1 1 1 1 1 1 1 1 1 1 1 1 1 0 0 0 1 1 1 1 1 1 1 1 1 1 1 1 1 1 1\n",
      " 1 1 1 1 1 1 1 1 1 1 1 1 1 1 1 1 1 1 1 1 1 1 1 1 1 1 1 1 1 1 1 1 1 1 1 1 1\n",
      " 1 1 1 1 1 1 1 1 1 1 1 1 1 1 1 1 1 1 1 1 1 1 1 1 1 1 1 1 1 1 1 1 1 1 1 1 1\n",
      " 1 1 1 1 1 1 1 1 1 1 1 1 1 1 1 1 1 1 1 1 1 1 1 1 1 1 0 0 0 0 0 0 0 0 1 1 1\n",
      " 1 0 1 1 0 1 1 1 1 1 1 1 1 1 1 1 1 1 1 1 1 0 0 0 0 0 0 0 1 1 1 1 1 0 0 1 1\n",
      " 1 1 1 1 1 1 1 1 1 1 1 1 1 1]\n"
     ]
    }
   ],
   "source": [
    "preds = sc.predict(test_scaled)\n",
    "print(preds)"
   ]
  },
  {
   "cell_type": "code",
   "execution_count": 23,
   "id": "c84626f2",
   "metadata": {},
   "outputs": [],
   "source": [
    "submit = pd.read_csv('C:/Users/default.DESKTOP-I1K7OTQ/Desktop/LG_Aimers/sample_submission.csv')"
   ]
  },
  {
   "cell_type": "code",
   "execution_count": 24,
   "id": "8e8a8911",
   "metadata": {},
   "outputs": [],
   "source": [
    "submit['Y_Class']=preds"
   ]
  },
  {
   "cell_type": "code",
   "execution_count": 25,
   "id": "546d1bdb",
   "metadata": {},
   "outputs": [],
   "source": [
    "submit.to_csv('C:/Users/default.DESKTOP-I1K7OTQ/Desktop/LG_Aimers/baseline_submission.csv', index=False)"
   ]
  },
  {
   "cell_type": "code",
   "execution_count": null,
   "id": "266a17dc",
   "metadata": {},
   "outputs": [],
   "source": []
  }
 ],
 "metadata": {
  "kernelspec": {
   "display_name": "Python 3 (ipykernel)",
   "language": "python",
   "name": "python3"
  },
  "language_info": {
   "codemirror_mode": {
    "name": "ipython",
    "version": 3
   },
   "file_extension": ".py",
   "mimetype": "text/x-python",
   "name": "python",
   "nbconvert_exporter": "python",
   "pygments_lexer": "ipython3",
   "version": "3.9.13"
  }
 },
 "nbformat": 4,
 "nbformat_minor": 5
}
