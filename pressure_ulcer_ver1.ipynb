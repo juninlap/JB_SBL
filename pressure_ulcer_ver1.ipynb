{
 "cells": [
  {
   "cell_type": "code",
   "execution_count": 2,
   "metadata": {
    "collapsed": true,
    "ExecuteTime": {
     "end_time": "2023-06-23T07:58:25.675384100Z",
     "start_time": "2023-06-23T07:58:25.667411Z"
    }
   },
   "outputs": [],
   "source": [
    "import torch\n",
    "import os"
   ]
  },
  {
   "cell_type": "code",
   "execution_count": 3,
   "outputs": [
    {
     "name": "stdout",
     "output_type": "stream",
     "text": [
      "현재 작업 경로 : C:\\Users\\USER\\PycharmProjects\\pythonProject7\n",
      "변경된 작업 경로 : C:\\Users\\USER\\Documents\\content\\drive\\MyDrive\\yolov5\n"
     ]
    }
   ],
   "source": [
    "print('현재 작업 경로 :', os.getcwd())\n",
    "os.chdir('C:/Users/USER/Documents/content/drive/MyDrive/yolov5')\n",
    "print('변경된 작업 경로 :', os.getcwd())"
   ],
   "metadata": {
    "collapsed": false,
    "ExecuteTime": {
     "end_time": "2023-06-23T08:01:12.769716Z",
     "start_time": "2023-06-23T08:01:12.715896400Z"
    }
   }
  },
  {
   "cell_type": "code",
   "execution_count": 4,
   "outputs": [
    {
     "name": "stderr",
     "output_type": "stream",
     "text": [
      "fatal: destination path 'yolov5' already exists and is not an empty directory.\n"
     ]
    }
   ],
   "source": [
    "!git clone https://github.com/ultralytics/yolov5"
   ],
   "metadata": {
    "collapsed": false,
    "ExecuteTime": {
     "end_time": "2023-06-23T08:01:39.037648300Z",
     "start_time": "2023-06-23T08:01:38.939091700Z"
    }
   }
  },
  {
   "cell_type": "code",
   "execution_count": 5,
   "outputs": [
    {
     "name": "stdout",
     "output_type": "stream",
     "text": [
      "C:\\Users\\USER\\Documents\\content\\drive\\MyDrive\\yolov5\\yolov5\n",
      "Note: you may need to restart the kernel to use updated packages.\n"
     ]
    },
    {
     "name": "stderr",
     "output_type": "stream",
     "text": [
      "WARNING: Ignoring invalid distribution -pencv-python (c:\\users\\user\\anaconda3\\lib\\site-packages)\n",
      "WARNING: Ignoring invalid distribution -pencv-python (c:\\users\\user\\anaconda3\\lib\\site-packages)\n",
      "WARNING: Ignoring invalid distribution -pencv-python (c:\\users\\user\\anaconda3\\lib\\site-packages)\n",
      "WARNING: Ignoring invalid distribution -pencv-python (c:\\users\\user\\anaconda3\\lib\\site-packages)\n",
      "WARNING: Ignoring invalid distribution -pencv-python (c:\\users\\user\\anaconda3\\lib\\site-packages)\n",
      "WARNING: Ignoring invalid distribution -pencv-python (c:\\users\\user\\anaconda3\\lib\\site-packages)\n"
     ]
    },
    {
     "name": "stdout",
     "output_type": "stream",
     "text": [
      "Note: you may need to restart the kernel to use updated packages.\n",
      "Setup complete. Using torch 1.11.0+cu113 (NVIDIA GeForce RTX 3060)\n"
     ]
    },
    {
     "name": "stderr",
     "output_type": "stream",
     "text": [
      "WARNING: Ignoring invalid distribution -pencv-python (c:\\users\\user\\anaconda3\\lib\\site-packages)\n",
      "WARNING: Ignoring invalid distribution -pencv-python (c:\\users\\user\\anaconda3\\lib\\site-packages)\n",
      "WARNING: Ignoring invalid distribution -pencv-python (c:\\users\\user\\anaconda3\\lib\\site-packages)\n",
      "WARNING: Ignoring invalid distribution -pencv-python (c:\\users\\user\\anaconda3\\lib\\site-packages)\n",
      "WARNING: Ignoring invalid distribution -pencv-python (c:\\users\\user\\anaconda3\\lib\\site-packages)\n",
      "WARNING: Ignoring invalid distribution -pencv-python (c:\\users\\user\\anaconda3\\lib\\site-packages)\n"
     ]
    }
   ],
   "source": [
    "%cd yolov5\n",
    "%pip install -qr requirements.txt\n",
    "%pip install -q roboflow\n",
    "\n",
    "import torch\n",
    "import yaml\n",
    "from IPython.display import Image, clear_output\n",
    "\n",
    "print(f\"Setup complete. Using torch {torch.__version__} ({torch.cuda.get_device_properties(0).name if torch.cuda.is_available() else 'CPU'})\")"
   ],
   "metadata": {
    "collapsed": false,
    "ExecuteTime": {
     "end_time": "2023-06-23T08:02:50.189256500Z",
     "start_time": "2023-06-23T08:02:43.723881700Z"
    }
   }
  },
  {
   "cell_type": "code",
   "execution_count": 6,
   "outputs": [
    {
     "name": "stdout",
     "output_type": "stream",
     "text": [
      "Requirement already satisfied: roboflow in c:\\users\\user\\anaconda3\\lib\\site-packages (1.0.9)\n",
      "Requirement already satisfied: pyparsing==2.4.7 in c:\\users\\user\\anaconda3\\lib\\site-packages (from roboflow) (2.4.7)\n",
      "Requirement already satisfied: urllib3>=1.26.6 in c:\\users\\user\\anaconda3\\lib\\site-packages (from roboflow) (1.26.14)\n",
      "Requirement already satisfied: matplotlib in c:\\users\\user\\anaconda3\\lib\\site-packages (from roboflow) (3.7.0)\n",
      "Requirement already satisfied: wget in c:\\users\\user\\anaconda3\\lib\\site-packages (from roboflow) (3.2)\n",
      "Requirement already satisfied: Pillow>=7.1.2 in c:\\users\\user\\anaconda3\\lib\\site-packages (from roboflow) (9.4.0)\n",
      "Requirement already satisfied: numpy>=1.18.5 in c:\\users\\user\\anaconda3\\lib\\site-packages (from roboflow) (1.23.5)\n",
      "Requirement already satisfied: PyYAML>=5.3.1 in c:\\users\\user\\anaconda3\\lib\\site-packages (from roboflow) (6.0)\n",
      "Requirement already satisfied: requests in c:\\users\\user\\anaconda3\\lib\\site-packages (from roboflow) (2.31.0)\n",
      "Requirement already satisfied: chardet==4.0.0 in c:\\users\\user\\anaconda3\\lib\\site-packages (from roboflow) (4.0.0)\n",
      "Requirement already satisfied: idna==2.10 in c:\\users\\user\\anaconda3\\lib\\site-packages (from roboflow) (2.10)\n",
      "Requirement already satisfied: python-dotenv in c:\\users\\user\\anaconda3\\lib\\site-packages (from roboflow) (1.0.0)\n",
      "Requirement already satisfied: tqdm>=4.41.0 in c:\\users\\user\\anaconda3\\lib\\site-packages (from roboflow) (4.64.1)\n",
      "Requirement already satisfied: opencv-python>=4.1.2 in c:\\users\\user\\anaconda3\\lib\\site-packages (from roboflow) (4.7.0.72)\n",
      "Requirement already satisfied: cycler==0.10.0 in c:\\users\\user\\anaconda3\\lib\\site-packages (from roboflow) (0.10.0)\n",
      "Requirement already satisfied: requests-toolbelt in c:\\users\\user\\anaconda3\\lib\\site-packages (from roboflow) (1.0.0)\n",
      "Requirement already satisfied: python-dateutil in c:\\users\\user\\anaconda3\\lib\\site-packages (from roboflow) (2.8.2)\n",
      "Requirement already satisfied: kiwisolver>=1.3.1 in c:\\users\\user\\anaconda3\\lib\\site-packages (from roboflow) (1.4.4)\n",
      "Requirement already satisfied: certifi==2022.12.7 in c:\\users\\user\\anaconda3\\lib\\site-packages (from roboflow) (2022.12.7)\n",
      "Requirement already satisfied: six in c:\\users\\user\\anaconda3\\lib\\site-packages (from roboflow) (1.16.0)\n",
      "Requirement already satisfied: colorama in c:\\users\\user\\anaconda3\\lib\\site-packages (from tqdm>=4.41.0->roboflow) (0.4.6)\n",
      "Requirement already satisfied: fonttools>=4.22.0 in c:\\users\\user\\anaconda3\\lib\\site-packages (from matplotlib->roboflow) (4.25.0)\n",
      "Requirement already satisfied: packaging>=20.0 in c:\\users\\user\\anaconda3\\lib\\site-packages (from matplotlib->roboflow) (22.0)\n",
      "Requirement already satisfied: contourpy>=1.0.1 in c:\\users\\user\\anaconda3\\lib\\site-packages (from matplotlib->roboflow) (1.0.5)\n",
      "Requirement already satisfied: charset-normalizer<4,>=2 in c:\\users\\user\\anaconda3\\lib\\site-packages (from requests->roboflow) (2.0.4)\n"
     ]
    },
    {
     "name": "stderr",
     "output_type": "stream",
     "text": [
      "WARNING: Ignoring invalid distribution -pencv-python (c:\\users\\user\\anaconda3\\lib\\site-packages)\n",
      "WARNING: Ignoring invalid distribution -pencv-python (c:\\users\\user\\anaconda3\\lib\\site-packages)\n",
      "WARNING: Ignoring invalid distribution -pencv-python (c:\\users\\user\\anaconda3\\lib\\site-packages)\n",
      "WARNING: Ignoring invalid distribution -pencv-python (c:\\users\\user\\anaconda3\\lib\\site-packages)\n",
      "WARNING: Ignoring invalid distribution -pencv-python (c:\\users\\user\\anaconda3\\lib\\site-packages)\n",
      "WARNING: Ignoring invalid distribution -pencv-python (c:\\users\\user\\anaconda3\\lib\\site-packages)\n"
     ]
    },
    {
     "name": "stdout",
     "output_type": "stream",
     "text": [
      "loading Roboflow workspace...\n",
      "loading Roboflow project...\n",
      "Downloading Dataset Version Zip in buttocks-24 to yolov5pytorch: 72% [24616960 / 33792641] bytes"
     ]
    },
    {
     "name": "stderr",
     "output_type": "stream",
     "text": [
      "IOPub message rate exceeded.\n",
      "The notebook server will temporarily stop sending output\n",
      "to the client in order to avoid crashing it.\n",
      "To change this limit, set the config variable\n",
      "`--NotebookApp.iopub_msg_rate_limit`.\n",
      "\n",
      "Current values:\n",
      "NotebookApp.iopub_msg_rate_limit=1000.0 (msgs/sec)\n",
      "NotebookApp.rate_limit_window=3.0 (secs)\n",
      "\n",
      "Extracting Dataset Version Zip to buttocks-24 in yolov5pytorch:: 100%|██████████| 6486/6486 [00:03<00:00, 1748.44it/s]\n"
     ]
    }
   ],
   "source": [
    "!pip install roboflow\n",
    "\n",
    "from roboflow import Roboflow\n",
    "rf = Roboflow(api_key=\"uddYXuBfbDOMwDrLOWYb\")\n",
    "project = rf.workspace(\"hyunnununanna\").project(\"buttocks-ebuy4\")\n",
    "dataset = project.version(24).download(\"yolov5\")"
   ],
   "metadata": {
    "collapsed": false,
    "ExecuteTime": {
     "end_time": "2023-06-23T23:05:29.108283800Z",
     "start_time": "2023-06-23T23:05:12.926239700Z"
    }
   }
  },
  {
   "cell_type": "code",
   "execution_count": 7,
   "outputs": [],
   "source": [
    "data_dir = 'C:/Users/USER/Documents/content/drive/MyDrive/yolov5/yolov5/buttocks-24'\n",
    "data_yaml = 'C:/Users/USER/Documents/content/drive/MyDrive/yolov5/yolov5/buttocks-24/data.yaml'"
   ],
   "metadata": {
    "collapsed": false,
    "ExecuteTime": {
     "end_time": "2023-06-23T23:07:48.281916300Z",
     "start_time": "2023-06-23T23:07:48.279965100Z"
    }
   }
  },
  {
   "cell_type": "code",
   "execution_count": 8,
   "outputs": [
    {
     "data": {
      "text/plain": "{'names': ['DTPI',\n  'normal',\n  'stage1',\n  'stage2',\n  'stage3',\n  'stage4',\n  'unstageable'],\n 'nc': 7,\n 'roboflow': {'license': 'CC BY 4.0',\n  'project': 'buttocks-ebuy4',\n  'url': 'https://universe.roboflow.com/hyunnununanna/buttocks-ebuy4/dataset/24',\n  'version': 24,\n  'workspace': 'hyunnununanna'},\n 'test': '../test/images',\n 'train': 'buttocks-24/train/images',\n 'val': 'buttocks-24/valid/images'}"
     },
     "metadata": {},
     "output_type": "display_data"
    }
   ],
   "source": [
    "with open(data_yaml) as f:\n",
    "    film = yaml.load(f, Loader=yaml.FullLoader)\n",
    "    display(film)"
   ],
   "metadata": {
    "collapsed": false,
    "ExecuteTime": {
     "end_time": "2023-06-23T23:08:07.179106800Z",
     "start_time": "2023-06-23T23:08:07.132264500Z"
    }
   }
  },
  {
   "cell_type": "code",
   "execution_count": 12,
   "outputs": [
    {
     "name": "stdout",
     "output_type": "stream",
     "text": [
      "변경된 yaml 파일 :\n"
     ]
    },
    {
     "data": {
      "text/plain": "{'names': ['DTPI',\n  'normal',\n  'stage1',\n  'stage2',\n  'stage3',\n  'stage4',\n  'unstageable'],\n 'nc': 7,\n 'roboflow': {'license': 'CC BY 4.0',\n  'project': 'buttocks-ebuy4',\n  'url': 'https://universe.roboflow.com/hyunnununanna/buttocks-ebuy4/dataset/24',\n  'version': 24,\n  'workspace': 'hyunnununanna'},\n 'test': 'C:/Users/USER/Documents/content/drive/MyDrive/yolov5/yolov5/buttocks-24/test/images',\n 'train': 'C:/Users/USER/Documents/content/drive/MyDrive/yolov5/yolov5/buttocks-24/train/images',\n 'val': 'C:/Users/USER/Documents/content/drive/MyDrive/yolov5/yolov5/buttocks-24/valid/images'}"
     },
     "metadata": {},
     "output_type": "display_data"
    }
   ],
   "source": [
    "# yaml 파일의 train, val 데이터가 있는 경로 수정 (기존 경로 -> 구글 드라이브에 저장된 경로로)\n",
    "film['train'] = 'C:/Users/USER/Documents/content/drive/MyDrive/yolov5/yolov5/buttocks-24/train/images'\n",
    "film['test'] = 'C:/Users/USER/Documents/content/drive/MyDrive/yolov5/yolov5/buttocks-24/test/images'\n",
    "film['val'] = 'C:/Users/USER/Documents/content/drive/MyDrive/yolov5/yolov5/buttocks-24/valid/images'\n",
    "\n",
    "with open(data_yaml, 'w') as f:\n",
    "    yaml.dump(film, f)\n",
    "\n",
    "print('변경된 yaml 파일 :')\n",
    "with open(data_yaml) as f:\n",
    "    film = yaml.load(f, Loader=yaml.FullLoader)\n",
    "    display(film)"
   ],
   "metadata": {
    "collapsed": false,
    "ExecuteTime": {
     "end_time": "2023-06-23T23:26:28.016710700Z",
     "start_time": "2023-06-23T23:26:28.004749700Z"
    }
   }
  },
  {
   "cell_type": "code",
   "execution_count": null,
   "outputs": [],
   "source": [
    "!python train.py --img 256 --batch 4 --epochs 200 --data {data_yaml} --weights yolov5x.pt --cache"
   ],
   "metadata": {
    "collapsed": false
   }
  },
  {
   "cell_type": "code",
   "execution_count": null,
   "outputs": [],
   "source": [],
   "metadata": {
    "collapsed": false
   }
  },
  {
   "cell_type": "code",
   "execution_count": null,
   "outputs": [],
   "source": [],
   "metadata": {
    "collapsed": false
   }
  }
 ],
 "metadata": {
  "kernelspec": {
   "display_name": "Python 3",
   "language": "python",
   "name": "python3"
  },
  "language_info": {
   "codemirror_mode": {
    "name": "ipython",
    "version": 2
   },
   "file_extension": ".py",
   "mimetype": "text/x-python",
   "name": "python",
   "nbconvert_exporter": "python",
   "pygments_lexer": "ipython2",
   "version": "2.7.6"
  }
 },
 "nbformat": 4,
 "nbformat_minor": 0
}
